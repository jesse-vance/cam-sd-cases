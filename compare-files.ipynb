{
 "cells": [
  {
   "cell_type": "code",
   "execution_count": 1,
   "id": "61182377-f2ac-4dca-8ace-484a795ff401",
   "metadata": {},
   "outputs": [],
   "source": [
    "%load_ext autoreload\n",
    "%autoreload 2"
   ]
  },
  {
   "cell_type": "code",
   "execution_count": 2,
   "id": "8d73ea29-5de4-4f8c-93ef-ec7125aba67b",
   "metadata": {},
   "outputs": [],
   "source": [
    "import os\n",
    "from glob import glob\n",
    "\n",
    "import nc_compare"
   ]
  },
  {
   "cell_type": "code",
   "execution_count": 3,
   "id": "ee595884-eb7d-4c67-bf15-08084be66ed8",
   "metadata": {},
   "outputs": [
    {
     "data": {
      "text/plain": [
       "{'cam6327_sd_1987_apo_test': ['/glade/scratch/mclong/archive/cam6327_sd_1987_apo_test/atm/hist/cam6327_sd_1987_apo_test.cam.h0.1987-01.nc'],\n",
       " 'cam6327_sd_1987_apo_test-2': ['/glade/scratch/mclong/archive/cam6327_sd_1987_apo_test-2/atm/hist/cam6327_sd_1987_apo_test-2.cam.h0.1987-01.nc'],\n",
       " 'cam6327_sd_1987_apo_test_chem-mech-test': ['/glade/scratch/mclong/archive/cam6327_sd_1987_apo_test_chem-mech-test/atm/hist/cam6327_sd_1987_apo_test_chem-mech-test.cam.h0.1987-01.nc'],\n",
       " 'cam6327_sd.apo_test_srf_emis.001': ['/glade/scratch/mclong/archive/cam6327_sd.apo_test_srf_emis.001/atm/hist/cam6327_sd.apo_test_srf_emis.001.cam.h0.1987-01.nc']}"
      ]
     },
     "execution_count": 3,
     "metadata": {},
     "output_type": "execute_result"
    }
   ],
   "source": [
    "cases = [\n",
    "    'cam6327_sd_1987_apo_test', # straight-up CSH config\n",
    "    'cam6327_sd_1987_apo_test-2', # my initial python port\n",
    "    'cam6327_sd_1987_apo_test_chem-mech-test', # manipulated chem_mech.,\n",
    "    'cam6327_sd.apo_test_srf_emis.001', # first srf_emis\n",
    "]\n",
    "\n",
    "arch_root = '/glade/scratch/mclong/archive'\n",
    "files = {}\n",
    "for case in cases:\n",
    "    files[case] = sorted(glob(f'{arch_root}/{case}/atm/hist/*.nc'))\n",
    "    \n",
    "files    "
   ]
  },
  {
   "cell_type": "code",
   "execution_count": 4,
   "id": "b1c225a7-de6d-46e9-a076-927d55c3d870",
   "metadata": {},
   "outputs": [
    {
     "data": {
      "text/plain": [
       "'/glade/scratch/mclong/archive/cam6327_sd_1987_apo_test-2/atm/hist/cam6327_sd_1987_apo_test-2.cam.h0.1987-01.nc'"
      ]
     },
     "execution_count": 4,
     "metadata": {},
     "output_type": "execute_result"
    }
   ],
   "source": [
    "files[cases[1]][0]"
   ]
  },
  {
   "cell_type": "code",
   "execution_count": 5,
   "id": "68853843-f29e-4daf-b7b7-d12eccbd359a",
   "metadata": {},
   "outputs": [
    {
     "name": "stdout",
     "output_type": "stream",
     "text": [
      "Examining:\n",
      "(1) /glade/scratch/mclong/archive/cam6327_sd_1987_apo_test/atm/hist/cam6327_sd_1987_apo_test.cam.h0.1987-01.nc\n",
      "(2) /glade/scratch/mclong/archive/cam6327_sd_1987_apo_test-2/atm/hist/cam6327_sd_1987_apo_test-2.cam.h0.1987-01.nc\n",
      "All equal: False\n",
      "All close: False\n",
      "Fields that are not identical:\n",
      "date_written: different\n",
      "time_written: different\n"
     ]
    }
   ],
   "source": [
    "nc_compare.compare_files(files[cases[0]][0], files[cases[1]][0])"
   ]
  },
  {
   "cell_type": "code",
   "execution_count": 6,
   "id": "e820102f-03cf-439b-a559-ab54bf82e5da",
   "metadata": {},
   "outputs": [
    {
     "name": "stdout",
     "output_type": "stream",
     "text": [
      "Examining:\n",
      "(1) /glade/scratch/mclong/archive/cam6327_sd_1987_apo_test/atm/hist/cam6327_sd_1987_apo_test.cam.h0.1987-01.nc\n",
      "(2) /glade/scratch/mclong/archive/cam6327_sd_1987_apo_test_chem-mech-test/atm/hist/cam6327_sd_1987_apo_test_chem-mech-test.cam.h0.1987-01.nc\n",
      "All equal: False\n",
      "All close: False\n",
      "Fields that are not identical:\n",
      "date_written: different\n",
      "time_written: different\n"
     ]
    }
   ],
   "source": [
    "nc_compare.compare_files(files[cases[0]][0], files[cases[2]][0])"
   ]
  },
  {
   "cell_type": "code",
   "execution_count": 7,
   "id": "6cfaf3ab-bb11-4f4f-8e8c-e39df36bcbae",
   "metadata": {},
   "outputs": [
    {
     "name": "stdout",
     "output_type": "stream",
     "text": [
      "Examining:\n",
      "(1) /glade/scratch/mclong/archive/cam6327_sd.apo_test_srf_emis.001/atm/hist/cam6327_sd.apo_test_srf_emis.001.cam.h0.1987-01.nc\n",
      "(2) /glade/scratch/mclong/archive/cam6327_sd_1987_apo_test/atm/hist/cam6327_sd_1987_apo_test.cam.h0.1987-01.nc\n",
      "missing SFapo_jena in (2)\n",
      "missing SFco2_cesm in (2)\n",
      "missing SFco2_gridfed in (2)\n",
      "missing SFco2_oco2mip in (2)\n",
      "missing SFco2_somffn in (2)\n",
      "missing SFn2_cesm in (2)\n",
      "missing SFn2_era in (2)\n",
      "missing SFo2_cesm in (2)\n",
      "missing SFo2_gk01r16 in (2)\n",
      "missing SFo2_gridfed in (2)\n",
      "missing apo_jena in (2)\n",
      "missing apo_jena_SRF in (2)\n",
      "missing co2_cesm in (2)\n",
      "missing co2_cesm_SRF in (2)\n",
      "missing co2_gridfed in (2)\n",
      "missing co2_gridfed_SRF in (2)\n",
      "missing co2_oco2mip in (2)\n",
      "missing co2_oco2mip_SRF in (2)\n",
      "missing co2_somffn in (2)\n",
      "missing co2_somffn_SRF in (2)\n",
      "missing n2_cesm in (2)\n",
      "missing n2_cesm_SRF in (2)\n",
      "missing n2_era in (2)\n",
      "missing n2_era_SRF in (2)\n",
      "missing o2_cesm in (2)\n",
      "missing o2_cesm_SRF in (2)\n",
      "missing o2_gk01r16 in (2)\n",
      "missing o2_gk01r16_SRF in (2)\n",
      "missing o2_gridfed in (2)\n",
      "missing o2_gridfed_SRF in (2)\n",
      "All equal: False\n",
      "All close: False\n",
      "Fields that are not identical:\n",
      "lev: close\n",
      "hyam: close\n",
      "hybm: close\n",
      "date_written: different\n",
      "time_written: different\n",
      "ADRAIN: close\n",
      "ADSNOW: close\n",
      "ANRAIN: close\n",
      "ANSNOW: close\n",
      "AQRAIN: close\n",
      "AQSNOW: close\n",
      "AREI: close\n",
      "AREL: close\n",
      "AWNC: close\n",
      "AWNI: close\n",
      "CCN3: close\n",
      "CLDICE: close\n",
      "CLDLIQ: close\n",
      "CLOUD: close\n",
      "CLOUDFRAC_CLUBB: close\n",
      "CONCLD: close\n",
      "DCQ: close\n",
      "DMS: close\n",
      "DTCOND: close\n",
      "DTV: close\n",
      "DTWR_DMS: close\n",
      "DTWR_H2O2: close\n",
      "DTWR_H2SO4: close\n",
      "DTWR_SO2: close\n",
      "FICE: close\n",
      "FREQI: close\n",
      "FREQL: close\n",
      "FREQR: close\n",
      "FREQS: close\n",
      "H2O: close\n",
      "H2O2: close\n",
      "H2SO4: close\n",
      "ICIMR: close\n",
      "ICWMR: close\n",
      "IWC: close\n",
      "NUMICE: close\n",
      "NUMLIQ: close\n",
      "NUMRAI: close\n",
      "NUMSNO: close\n",
      "OMEGA: close\n",
      "OMEGAT: close\n",
      "Q: close\n",
      "QRL: close\n",
      "QRL_d1: close\n",
      "QRS: close\n",
      "QRS_d1: close\n",
      "QT: close\n",
      "RAINQM: close\n",
      "RCMTEND_CLUBB: close\n",
      "RELHUM: close\n",
      "RELVAR: close\n",
      "RIMTEND_CLUBB: close\n",
      "RVMTEND_CLUBB: close\n",
      "SL: close\n",
      "SNOWQM: close\n",
      "SO2: close\n",
      "SOAG: close\n",
      "STEND_CLUBB: close\n",
      "T: close\n",
      "THETAL: close\n",
      "U: close\n",
      "UTEND_CLUBB: close\n",
      "UU: close\n",
      "V: close\n",
      "VD01: close\n",
      "VQ: close\n",
      "VT: close\n",
      "VTEND_CLUBB: close\n",
      "VU: close\n",
      "VV: close\n",
      "WPTHVP_CLUBB: close\n",
      "WSUB: close\n",
      "Z3: close\n",
      "bc_a1: close\n",
      "bc_a4: close\n",
      "bc_c1: close\n",
      "bc_c4: close\n",
      "dst_a1: close\n",
      "dst_a2: close\n",
      "dst_a3: close\n",
      "dst_c1: close\n",
      "dst_c2: close\n",
      "dst_c3: close\n",
      "ncl_a1: close\n",
      "ncl_a2: close\n",
      "ncl_a3: close\n",
      "ncl_c1: close\n",
      "ncl_c2: close\n",
      "ncl_c3: close\n",
      "num_a1: close\n",
      "num_a2: close\n",
      "num_a3: close\n",
      "num_a4: close\n",
      "num_c1: close\n",
      "num_c2: close\n",
      "num_c3: close\n",
      "num_c4: close\n",
      "pom_a1: close\n",
      "pom_a4: close\n",
      "pom_c1: close\n",
      "pom_c4: close\n",
      "so4_a1: close\n",
      "so4_a2: close\n",
      "so4_a3: close\n",
      "so4_c1: close\n",
      "so4_c2: close\n",
      "so4_c3: close\n",
      "soa_a1: close\n",
      "soa_a2: close\n",
      "soa_c1: close\n",
      "soa_c2: close\n"
     ]
    }
   ],
   "source": [
    "nc_compare.compare_files(files[cases[3]][0], files[cases[0]][0])"
   ]
  }
 ],
 "metadata": {
  "kernelspec": {
   "display_name": "Python [conda env:miniconda3-sno]",
   "language": "python",
   "name": "conda-env-miniconda3-sno-py"
  },
  "language_info": {
   "codemirror_mode": {
    "name": "ipython",
    "version": 3
   },
   "file_extension": ".py",
   "mimetype": "text/x-python",
   "name": "python",
   "nbconvert_exporter": "python",
   "pygments_lexer": "ipython3",
   "version": "3.7.11"
  }
 },
 "nbformat": 4,
 "nbformat_minor": 5
}
