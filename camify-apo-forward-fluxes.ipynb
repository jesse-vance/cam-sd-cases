{
 "cells": [
  {
   "cell_type": "code",
   "execution_count": 1,
   "id": "0bb97a55-70b5-44f8-8231-560816bd7a45",
   "metadata": {},
   "outputs": [],
   "source": [
    "%load_ext autoreload\n",
    "%autoreload 2"
   ]
  },
  {
   "cell_type": "code",
   "execution_count": 2,
   "id": "14304cd9-496d-4a51-ac4f-05a3575ccdfc",
   "metadata": {},
   "outputs": [],
   "source": [
    "import os\n",
    "from glob import glob\n",
    "import yaml\n",
    "import numpy as np\n",
    "import xarray as xr\n",
    "import warnings\n",
    "\n",
    "import regrid_tools\n",
    "from cesm_tools import to_netcdf_clean, ncks_fl_fmt64bit, molecules_per_mol, m2_per_cm2"
   ]
  },
  {
   "cell_type": "code",
   "execution_count": 3,
   "id": "e8ca1dc3-c407-49c8-abb8-50b2cfcc280a",
   "metadata": {},
   "outputs": [
    {
     "data": {
      "text/plain": [
       "grid: f09\n",
       "dims: (192, 288)\n",
       "file: data/rectilinear_f09_SCRIP_20180107.nc"
      ]
     },
     "execution_count": 3,
     "metadata": {},
     "output_type": "execute_result"
    }
   ],
   "source": [
    "dst_grid = regrid_tools.grid('f09', grid_file='data/rectilinear_f09_SCRIP_20180107.nc')\n",
    "dst_grid"
   ]
  },
  {
   "cell_type": "code",
   "execution_count": 4,
   "id": "70600169-33f0-4f6b-a6a4-a6903d6e511e",
   "metadata": {
    "tags": []
   },
   "outputs": [
    {
     "name": "stdout",
     "output_type": "stream",
     "text": [
      "exists: /glade/scratch/mclong/tmp/regridding/latlon_1.0x1.0_lon0=-180.0.nc\n"
     ]
    },
    {
     "data": {
      "text/plain": [
       "grid: latlon_latlon_1.0x1.0_lon0=-180.0\n",
       "dims: (180, 360)\n",
       "file: /glade/scratch/mclong/tmp/regridding/latlon_1.0x1.0_lon0=-180.0.nc"
      ]
     },
     "execution_count": 4,
     "metadata": {},
     "output_type": "execute_result"
    }
   ],
   "source": [
    "src_grid = regrid_tools.grid('latlon', nx=360, ny=180, lon0=-180)\n",
    "src_grid"
   ]
  },
  {
   "cell_type": "code",
   "execution_count": 5,
   "id": "33208404-7446-43ed-9c6e-b4eddfba3f10",
   "metadata": {},
   "outputs": [
    {
     "name": "stdout",
     "output_type": "stream",
     "text": [
      "generating: /glade/scratch/mclong/tmp/regridding/latlon_latlon_1.0x1.0_lon0=-180.0_to_f09_conserve_extrap-none.nc\n",
      " Starting weight generation with these inputs: \n",
      "   Source File: /glade/scratch/mclong/tmp/regridding/latlon_1.0x1.0_lon0=-180.0.nc\n",
      "   Destination File: data/rectilinear_f09_SCRIP_20180107.nc\n",
      "   Weight File: /glade/scratch/mclong/tmp/regridding/latlon_latlon_1.0x1.0_lon0=-180.0_to_f09_conserve_extrap-none.nc\n",
      "   Source File is in SCRIP format\n",
      "   Source Grid is a global grid\n",
      "   Source Grid is a logically rectangular grid\n",
      "   Use the center coordinates of the source grid to do the regrid\n",
      "   Destination File is in SCRIP format\n",
      "   Destination Grid is a global grid\n",
      "   Destination Grid is a logically rectangular grid\n",
      "   Use the center coordinates of the destination grid to do the regrid\n",
      "   Regrid Method: conserve\n",
      "   Pole option: NONE\n",
      "   Ignore unmapped destination points\n",
      "   Output weight file in NetCDF4 file format\n",
      "   Line Type: greatcircle\n",
      "   Norm Type: dstarea\n",
      "   Extrap. Method: none\n",
      "\n",
      " Completed weight generation successfully.\n",
      "\n",
      "\n",
      "source grid dims: (180, 360)\n",
      "destination grid dims: (192, 288)\n"
     ]
    },
    {
     "data": {
      "text/plain": [
       "regridder latlon_1.0x1.0_lon0=-180.0.nc --> rectilinear_f09_SCRIP_20180107.nc"
      ]
     },
     "execution_count": 5,
     "metadata": {},
     "output_type": "execute_result"
    }
   ],
   "source": [
    "regrid_obj = regrid_tools.regridder(src_grid, dst_grid, method='conserve', clobber=True)\n",
    "regrid_obj"
   ]
  },
  {
   "cell_type": "code",
   "execution_count": 10,
   "id": "698b433e-9eac-4d1d-ad98-d6c187004e11",
   "metadata": {},
   "outputs": [
    {
     "data": {
      "text/plain": [
       "{'apo_jena': {'flux_file': '/glade/work/mclong/sno-analysis/sno-flux-products-camified/SFAPO_OCN.carboscope.apo99X_v2021.f09.19860101-20201231.nc',\n",
       "  'constituent': 'O2',\n",
       "  'flux_variable': 'SFAPO_OCN'},\n",
       " 'co2_gridfed': {'flux_file': '/glade/work/mclong/sno-analysis/sno-flux-products-camified/SFCO2_FF.GCP-GridFED.v2021.3.f09.19860101-20201231.nc',\n",
       "  'constituent': 'CO2',\n",
       "  'flux_variable': 'SFCO2_FF'},\n",
       " 'co2_oco2mip': {'flux_file': '/glade/work/mclong/sno-analysis/sno-flux-products-camified/SFCO2_FF.OCO2-MIP.v2020.1.f09.19860101-20201231.nc',\n",
       "  'constituent': 'CO2',\n",
       "  'flux_variable': 'SFCO2_FF'},\n",
       " 'co2_cesm': {'flux_file': '/glade/work/mclong/sno-analysis/sno-flux-products-camified/SFCO2_OCN.cesm_fosi_smyle.f09.19860101-20201231.nc',\n",
       "  'constituent': 'CO2',\n",
       "  'flux_variable': 'SFCO2_OCN'},\n",
       " 'co2_somffn': {'flux_file': '/glade/work/mclong/sno-analysis/sno-flux-products-camified/SFCO2_OCN.MPI-SOM-FFN.f09.19860101-20201231.nc',\n",
       "  'constituent': 'CO2',\n",
       "  'flux_variable': 'SFCO2_OCN'},\n",
       " 'n2_cesm': {'flux_file': '/glade/work/mclong/sno-analysis/sno-flux-products-camified/SFN2_OCN.cesm_fosi_smyle.f09.19860101-20201231.nc',\n",
       "  'constituent': 'N2',\n",
       "  'flux_variable': 'SFN2_OCN'},\n",
       " 'n2_era': {'flux_file': '/glade/work/mclong/sno-analysis/sno-flux-products-camified/SFN2_OCN.era5_shf.f09.19860101-20201231.nc',\n",
       "  'constituent': 'N2',\n",
       "  'flux_variable': 'SFN2_OCN'},\n",
       " 'o2_gridfed': {'flux_file': '/glade/work/mclong/sno-analysis/sno-flux-products-camified/SFO2_FF.GCP-GridFED.v2021.3.f09.19860101-20201231.nc',\n",
       "  'constituent': 'O2',\n",
       "  'flux_variable': 'SFO2_FF'},\n",
       " 'o2_cesm': {'flux_file': '/glade/work/mclong/sno-analysis/sno-flux-products-camified/SFO2_OCN.cesm_fosi_smyle.f09.19860101-20201231.nc',\n",
       "  'constituent': 'O2',\n",
       "  'flux_variable': 'SFO2_OCN'},\n",
       " 'o2_gk01r16': {'flux_file': '/glade/work/mclong/sno-analysis/sno-flux-products-camified/SFO2_OCN.gk2001_R2016.f09.repeat_monclim.19860101-20201231.nc',\n",
       "  'constituent': 'O2',\n",
       "  'flux_variable': 'SFO2_OCN'}}"
      ]
     },
     "execution_count": 10,
     "metadata": {},
     "output_type": "execute_result"
    }
   ],
   "source": [
    "clobber = False\n",
    "\n",
    "flux_product_dir = \"/glade/work/mclong/sno-analysis/sno-flux-products\"\n",
    "flux_product_camified = f\"{flux_product_dir}-camified\"\n",
    "os.makedirs(flux_product_camified, exist_ok=True)\n",
    "\n",
    "\n",
    "srf_emis_files_raw = {\n",
    "    \"apo_jena\": f\"{flux_product_dir}/SFAPO_OCN.carboscope.apo99X_v2021.1x1.19860101-20201231.nc\",\n",
    "    \"co2_gridfed\": f\"{flux_product_dir}/SFCO2_FF.GCP-GridFED.v2021.3.1x1.19860101-20201231.nc\",\n",
    "    \"co2_oco2mip\": f\"{flux_product_dir}/SFCO2_FF.OCO2-MIP.v2020.1.1x1.19860101-20201231.nc\",\n",
    "    \"co2_cesm\": f\"{flux_product_dir}/SFCO2_OCN.cesm_fosi_smyle.1x1.19860101-20201231.nc\",\n",
    "    \"co2_somffn\": f\"{flux_product_dir}/SFCO2_OCN.MPI-SOM-FFN.1x1.19860101-20201231.nc\",\n",
    "    \"n2_cesm\": f\"{flux_product_dir}/SFN2_OCN.cesm_fosi_smyle.1x1.19860101-20201231.nc\",\n",
    "    \"n2_era\": f\"{flux_product_dir}/SFN2_OCN.era5_shf.1x1.19860101-20201231.nc\",\n",
    "    \"o2_gridfed\": f\"{flux_product_dir}/SFO2_FF.GCP-GridFED.v2021.3.1x1.19860101-20201231.nc\",\n",
    "    \"o2_cesm\": f\"{flux_product_dir}/SFO2_OCN.cesm_fosi_smyle.1x1.19860101-20201231.nc\",\n",
    "    \"o2_gk01r16\": f\"{flux_product_dir}/SFO2_OCN.gk2001_R2016.1x1.repeat_monclim.19860101-20201231.nc\",\n",
    "}\n",
    "\n",
    "srf_emis_files_camified = {}\n",
    "for v, path in srf_emis_files_raw.items():\n",
    "    file_out = f'{flux_product_camified}/{os.path.basename(path)}'.replace('.1x1.', '.f09.')\n",
    "    \n",
    "    flux_variable = os.path.basename(path).split('.')[0]\n",
    "    constituent = flux_variable[2:].split('_')[0]\n",
    "    constituent = 'O2' if constituent == 'APO' else constituent\n",
    "    \n",
    "    srf_emis_files_camified[v] = dict(\n",
    "        flux_file=file_out,\n",
    "        constituent=constituent,\n",
    "        flux_variable=flux_variable,\n",
    "    )\n",
    "    if not os.path.exists(file_out) or clobber:\n",
    "        \n",
    "        with xr.open_dataset(path) as ds:\n",
    "            year = ds.time_components[:, 0].astype(np.int32)\n",
    "            month = ds.time_components[:, 1].astype(np.int32)\n",
    "            day = ds.time_components[:, 2].astype(np.int32)\n",
    "        \n",
    "        #print(ds.time.values[0:5])\n",
    "        #break\n",
    "        ds['date'] =  year * 10000 + month * 100 + day\n",
    "        ds.date.attrs['units'] = 'YYYYMMDD'\n",
    "        ds.date.attrs['long_name'] = 'Date'\n",
    "        \n",
    "        flux_var = [v for v, da in ds.data_vars.items() if da.dims == ('time', 'lat', 'lon')]        \n",
    "        assert len(flux_var) == 1\n",
    "        flux_var = flux_var[0]\n",
    "        assert ds[flux_var].attrs['units'] == 'mol/m^2/s'\n",
    "        with xr.set_options(keep_attrs=True):\n",
    "            ds[flux_var] = ds[flux_var] * molecules_per_mol * m2_per_cm2\n",
    "            ds[flux_var].attrs['units'] = 'molecules/cm2/s'\n",
    "            \n",
    "        ds_f09 = ds[[v for v in ds.data_vars if ds[v].dims[-2:] != ('lat', 'lon')]]\n",
    "        ds_f09[flux_var] = regrid_obj(ds[flux_var])\n",
    "        \n",
    "        to_netcdf_clean(ds_f09, file_out)\n",
    "        ncks_fl_fmt64bit(file_out)\n",
    "        \n",
    "        \n",
    "srf_emis_files_camified"
   ]
  },
  {
   "cell_type": "code",
   "execution_count": 11,
   "id": "13bfc186-cae8-48bc-8f28-54ee3fe858e7",
   "metadata": {},
   "outputs": [],
   "source": [
    "with open('srf-emis-apo-forward.yml', 'w') as fid:\n",
    "    yaml.dump(srf_emis_files_camified, fid)"
   ]
  },
  {
   "cell_type": "code",
   "execution_count": null,
   "id": "9630e083-7a52-4a6f-831a-65808f8e85b2",
   "metadata": {},
   "outputs": [],
   "source": []
  }
 ],
 "metadata": {
  "kernelspec": {
   "display_name": "Python [conda env:miniconda3-sno]",
   "language": "python",
   "name": "conda-env-miniconda3-sno-py"
  },
  "language_info": {
   "codemirror_mode": {
    "name": "ipython",
    "version": 3
   },
   "file_extension": ".py",
   "mimetype": "text/x-python",
   "name": "python",
   "nbconvert_exporter": "python",
   "pygments_lexer": "ipython3",
   "version": "3.7.11"
  }
 },
 "nbformat": 4,
 "nbformat_minor": 5
}
