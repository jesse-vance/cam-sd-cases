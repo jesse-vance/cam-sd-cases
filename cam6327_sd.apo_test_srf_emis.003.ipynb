{
 "cells": [
  {
   "cell_type": "code",
   "execution_count": 19,
   "id": "474b3aa3-2ff6-4863-a019-691c72cc515b",
   "metadata": {},
   "outputs": [
    {
     "name": "stdout",
     "output_type": "stream",
     "text": [
      "The autoreload extension is already loaded. To reload it, use:\n",
      "  %reload_ext autoreload\n"
     ]
    }
   ],
   "source": [
    "%load_ext autoreload\n",
    "%autoreload 2"
   ]
  },
  {
   "cell_type": "code",
   "execution_count": 20,
   "id": "06e14c89-d21f-4415-ae40-4b689775debc",
   "metadata": {},
   "outputs": [],
   "source": [
    "import os\n",
    "from pathlib import Path\n",
    "import yaml\n",
    "from subprocess import check_call\n",
    "\n",
    "import inspect\n",
    "import cesm_tools"
   ]
  },
  {
   "cell_type": "markdown",
   "id": "855c3d70-d52e-479b-a563-a08d4a3050dd",
   "metadata": {},
   "source": [
    "## Check out model code and configure sandbox "
   ]
  },
  {
   "cell_type": "code",
   "execution_count": 21,
   "id": "c3349b52-d306-4401-8cd7-7886f3a7afb0",
   "metadata": {},
   "outputs": [
    {
     "name": "stdout",
     "output_type": "stream",
     "text": [
      "Check for right tag: /glade/p/cgd/oce/people/mclong/cesm/cam6_3_027\n",
      "HEAD detached at cam6_3_027\n",
      "nothing to commit, working tree clean\n",
      "\n",
      "\n"
     ]
    }
   ],
   "source": [
    "remote = 'git@github.com:ESCOMP/CAM.git'\n",
    "coderoot = '/glade/p/cgd/oce/people/mclong/cesm'\n",
    "cesmtag = 'cam6_3_027'\n",
    "\n",
    "cesmroot = cesm_tools.code_checkout(remote, coderoot, cesmtag)"
   ]
  },
  {
   "cell_type": "markdown",
   "id": "3427564d-9815-4136-ad45-1c0f01cefa66",
   "metadata": {},
   "source": [
    "## Set up local directory and machine-dependent paths"
   ]
  },
  {
   "cell_type": "code",
   "execution_count": 22,
   "id": "07611f3f-a36f-46af-ac24-6e344c6b187f",
   "metadata": {},
   "outputs": [],
   "source": [
    "USER = os.environ[\"USER\"]\n",
    "scriptroot = os.getcwd()\n",
    "os.makedirs(f\"{scriptroot}/chem_mech_input\", exist_ok=True)\n",
    "\n",
    "machine = \"cheyenne\"\n",
    "if machine in [\"cheyenne\"]:\n",
    "    inputdata = \"/glade/p/cesmdata/cseg/inputdata\"\n",
    "    scratch = f\"/glade/scratch/{USER}\"\n",
    "    project_data = '/glade/work/mclong/cam-sd-cases/data' \n",
    "    caseroot_root = f'/glade/work/{USER}/cam-sd-cases'\n",
    "else:\n",
    "    raise ValueError(f\"unknown machine: {machine}\")"
   ]
  },
  {
   "cell_type": "markdown",
   "id": "b7ade7d8-439f-471d-9ed5-eb604da95c0b",
   "metadata": {},
   "source": [
    "## Setup case options"
   ]
  },
  {
   "cell_type": "code",
   "execution_count": 23,
   "id": "16ce1a6c-d61b-4062-ae18-00745256931a",
   "metadata": {},
   "outputs": [],
   "source": [
    "clobber = True  # remove an existing case of this name\n",
    "\n",
    "case = \"cam6327_sd.apo_test_srf_emis.004\"\n",
    "\n",
    "compset = \"SDYN_CAM60_CLM50%SP_CICE%PRES_DOCN%DOM_MOSART_SGLC_SWAV\"\n",
    "resolution = \"f09_f09_mg17\"\n",
    "PROJECT = \"NEOL0004\"\n",
    "\n",
    "chem_mech_template = f\"{cesmroot}/src/chemistry/pp_trop_mam4/chem_mech.in\"\n",
    "assert os.path.exists(chem_mech_template)\n",
    "\n",
    "# initial conditions\n",
    "ncdata = f\"{project_data}/f.e20.FWAMIP.f09_f09.134.1975.009.cam.i.2010-01-01_56L_c170403.apo-forward-tracers.nc\"\n",
    "\n",
    "# sathist output\n",
    "if True:\n",
    "    sathist_track_infile = f\"{project_data}/sathist_infile.hip-orc-tom-aoa.20220303.nc\"\n",
    "else:\n",
    "    sathist_track_infile = \"none\"\n",
    "\n",
    "with open(\"ObsPack-lonlat-fincl-specifier.yml\") as fid:\n",
    "    fincl2lonlat_dict = yaml.safe_load(fid)\n",
    "fincl2lonlat = \",\".join([f\"'{v}'\" for v in fincl2lonlat_dict.values()])\n",
    "\n",
    "# additional tracers\n",
    "srf_emis_files = {}\n",
    "if True:\n",
    "    with open(\"srf-emis-apo-forward.yml\", \"r\") as fid:\n",
    "        srf_emis_files = yaml.safe_load(fid)\n",
    "\n",
    "# the basic variables\n",
    "sathist_fincl = [\"T\", \"U\", \"V\", \"Q\", \"PS\"]\n",
    "fincl1 = [\"U\", \"V\", \"T\", \"Q\", \"PS\"]\n",
    "fincl2 = [\"U\", \"V\", \"T\", \"Q\", \"PS\"]\n",
    "\n",
    "\n",
    "# paths\n",
    "caseroot = f\"{caseroot_root}/cam-sd-cases/{case}\"\n",
    "lockroot = f\"{caseroot_root}/cam-sd-cases/locked_cases\"\n",
    "rundir = f\"{scratch}/{case}\"\n",
    "archive_root = f\"{scratch}/archive/{case}\"\n",
    "\n",
    "\n",
    "# sst forcing\n",
    "prescribed_sst = \"custom\"\n",
    "sst_dataset = f\"{inputdata}/atm/cam/sst/sst_HadOIBl_bc_0.9x1.25_1850_2020_c210521.nc\"\n",
    "sst_year_start = 1850\n",
    "sst_year_end = 2020\n",
    "\n",
    "# run settings\n",
    "run_startdate = \"2016-01-01\"\n",
    "resubmit = 0\n",
    "stop_n = 1\n",
    "stop_option = \"nmonths\"\n",
    "rest_n = 12\n",
    "rest_option = \"nmonths\"\n",
    "timewall = \"04:00:00\"\n",
    "queue = \"economy\"\n",
    "PBS_ACCOUNT = PROJECT\n",
    "PROJECT = PROJECT\n",
    "\n",
    "os.makedirs(\"caseinfo\", exist_ok=True)\n",
    "with open(f\"caseinfo/{case}.yml\", \"w\") as fid:\n",
    "    yaml.dump(\n",
    "        dict(\n",
    "            case=case,\n",
    "            caseroot=caseroot,\n",
    "            rundir=rundir,\n",
    "            archive_root=archive_root,\n",
    "            compset=compset,\n",
    "            resolution=resolution,\n",
    "            sathist_track_infile=sathist_track_infile,\n",
    "            chem_mech_template=chem_mech_template,\n",
    "            fincl2lonlat_dict=fincl2lonlat_dict,\n",
    "            srf_emis_files=srf_emis_files,\n",
    "            sst_dataset=sst_dataset,\n",
    "            ncdata=ncdata,\n",
    "        ),\n",
    "        fid,\n",
    "    )\n"
   ]
  },
  {
   "cell_type": "markdown",
   "id": "1cbf577a-d28b-46ec-bf33-f917fcbe6c4e",
   "metadata": {},
   "source": [
    "## Create case\n",
    "\n",
    "### Determine if existing case exists, remove if `clobber=True`."
   ]
  },
  {
   "cell_type": "code",
   "execution_count": 24,
   "id": "78f95807-7fe1-4a19-b122-556c6b9b9fe7",
   "metadata": {},
   "outputs": [
    {
     "name": "stdout",
     "output_type": "stream",
     "text": [
      "deleting /glade/work/mclong/cam-sd-cases/cam-sd-cases/cam6327_sd.apo_test_srf_emis.003\n",
      "deleting /glade/scratch/mclong/cam6327_sd.apo_test_srf_emis.003\n"
     ]
    }
   ],
   "source": [
    "# ensure root directories\n",
    "os.makedirs(os.path.dirname(caseroot), exist_ok=True)\n",
    "os.makedirs(lockroot, exist_ok=True)\n",
    "\n",
    "lockfile = f\"{lockroot}/{case}\"\n",
    "if clobber:\n",
    "    check_call(['rm', '-f', lockfile])\n",
    "    \n",
    "create_build_case = not os.path.exists(lockfile)\n",
    "\n",
    "if create_build_case:\n",
    "    if os.path.exists(caseroot):\n",
    "        print(f\"deleting {caseroot}\")        \n",
    "        check_call(['rm', '-fr', caseroot])\n",
    "    if os.path.exists(rundir):        \n",
    "        print(f\"deleting {rundir}\")    \n",
    "        check_call(['rm', '-fr', rundir])  "
   ]
  },
  {
   "cell_type": "code",
   "execution_count": 25,
   "id": "4c1d1b10-000b-4994-b555-6245954bb01d",
   "metadata": {},
   "outputs": [
    {
     "name": "stdout",
     "output_type": "stream",
     "text": [
      "Did not find an alias or longname compset match for SDYN_CAM60_CLM50%SP_CICE%PRES_DOCN%DOM_MOSART_SGLC_SWAV \n",
      "Automatically adding SIAC to compset\n",
      "Automatically adding SESP to compset\n",
      "Compset forcing is \n"
     ]
    },
    {
     "name": "stderr",
     "output_type": "stream",
     "text": [
      "Warning: missing non-idmap ROF2OCN_FMAPNAME for rof_grid, r05 and ocn_grid 0.9x1.25 \n"
     ]
    },
    {
     "name": "stdout",
     "output_type": "stream",
     "text": [
      "ATM component is CAM cam6 physics:\n",
      "LND component is clm5.0:Satellite phenology:\n",
      "ICE component is Sea ICE (cice) model version 5 :prescribed cice\n",
      "OCN component is DOCN   prescribed ocean mode\n",
      "ROF component is MOSART: MOdel for Scale Adaptive River Transport\n",
      "GLC component is Stub glacier (land ice) component\n",
      "WAV component is Stub wave component\n",
      "IAC component is Stub iac component\n",
      "ESP component is Stub external system processing (ESP) component\n",
      "Pes     specification file is /glade/p/cgd/oce/people/mclong/cesm/cam6_3_027/cime_config/config_pes.xml\n",
      "Compset specific settings: name is SSTICE_DATA_FILENAME and value is $DIN_LOC_ROOT/atm/cam/sst/sst_HadOIBl_bc_0.9x1.25_clim_c040926.nc\n",
      "Compset specific settings: name is SSTICE_GRID_FILENAME and value is $DIN_LOC_ROOT/share/domains/domain.ocn.fv0.9x1.25_gx1v7.151020.nc\n",
      "Machine is cheyenne\n",
      "Pes setting: grid match    is a%0.9x1.25 \n",
      "Pes setting: machine match is cheyenne \n",
      "Pes setting: grid          is a%0.9x1.25_l%0.9x1.25_oi%0.9x1.25_r%r05_g%null_w%null_z%null_m%gx1v7 \n",
      "Pes setting: compset       is SDYN_CAM60_CLM50%SP_CICE%PRES_DOCN%DOM_MOSART_SGLC_SWAV_SIAC_SESP \n",
      "Pes setting: tasks       is {'NTASKS_ATM': 360, 'NTASKS_LND': 360, 'NTASKS_ROF': 360, 'NTASKS_ICE': 360, 'NTASKS_OCN': 360, 'NTASKS_GLC': 360, 'NTASKS_WAV': 360, 'NTASKS_CPL': 360} \n",
      "Pes setting: threads     is {'NTHRDS_ATM': 3, 'NTHRDS_LND': 3, 'NTHRDS_ROF': 3, 'NTHRDS_ICE': 3, 'NTHRDS_OCN': 3, 'NTHRDS_GLC': 3, 'NTHRDS_WAV': 3, 'NTHRDS_CPL': 3} \n",
      "Pes setting: rootpe      is {'ROOTPE_ATM': 0, 'ROOTPE_LND': 0, 'ROOTPE_ROF': 0, 'ROOTPE_ICE': 0, 'ROOTPE_OCN': 0, 'ROOTPE_GLC': 0, 'ROOTPE_WAV': 0, 'ROOTPE_CPL': 0} \n",
      "Pes setting: pstrid      is {} \n",
      "Pes other settings: {'MAX_MPITASKS_PER_NODE': '36'}\n",
      "Pes comments: none\n",
      "setting additional fields from config_pes: {'MAX_MPITASKS_PER_NODE': '36'}\n",
      " Compset is: SDYN_CAM60_CLM50%SP_CICE%PRES_DOCN%DOM_MOSART_SGLC_SWAV_SIAC_SESP \n",
      " Grid is: a%0.9x1.25_l%0.9x1.25_oi%0.9x1.25_r%r05_g%null_w%null_z%null_m%gx1v7 \n",
      " Components in compset are: ['cam', 'clm', 'cice', 'docn', 'mosart', 'sglc', 'swav', 'siac', 'sesp'] \n",
      "No charge_account info available, using value from PROJECT\n",
      "cesm model version found: cam6_3_027\n",
      "Batch_system_type is pbs\n",
      "job is case.run USER_REQUESTED_WALLTIME None USER_REQUESTED_QUEUE None WALLTIME_FORMAT %H:%M:%S\n",
      "job is case.st_archive USER_REQUESTED_WALLTIME None USER_REQUESTED_QUEUE None WALLTIME_FORMAT %H:%M:%S\n",
      " Creating Case directory /glade/work/mclong/cam-sd-cases/cam-sd-cases/cam6327_sd.apo_test_srf_emis.003\n"
     ]
    }
   ],
   "source": [
    "if create_build_case:\n",
    "    check_call(\n",
    "        [\n",
    "            \"./create_newcase\",\n",
    "            \"--case\",\n",
    "            caseroot,\n",
    "            \"--project\",\n",
    "            PROJECT,\n",
    "            \"--machine\",\n",
    "            machine,\n",
    "            \"--res\",\n",
    "            resolution,\n",
    "            \"--compset\",\n",
    "            compset,\n",
    "            \"--run-unsupport\",\n",
    "        ],\n",
    "        cwd=f\"{cesmroot}/cime/scripts\",\n",
    "    )\n"
   ]
  },
  {
   "cell_type": "markdown",
   "id": "be6c54e4-d019-4cfb-bfa9-bca632e31e2b",
   "metadata": {},
   "source": [
    "## Configure case\n",
    "\n",
    "### Generate a `chem_mech.in` file with additional tracers"
   ]
  },
  {
   "cell_type": "code",
   "execution_count": 26,
   "id": "49b7ed3e-9058-4b04-a74a-499aab40b963",
   "metadata": {},
   "outputs": [
    {
     "data": {
      "text/plain": [
       "{'apo_jena': {'constituent': 'O2',\n",
       "  'flux_file': '/glade/work/mclong/sno-analysis/sno-flux-products-camified/SFAPO_OCN.carboscope.apo99X_v2021.0.9x1.25.19860101-20201231.nc',\n",
       "  'flux_variable': 'SFAPO_OCN'},\n",
       " 'co2_cesm': {'constituent': 'CO2',\n",
       "  'flux_file': '/glade/work/mclong/sno-analysis/sno-flux-products-camified/SFCO2_OCN.cesm_fosi_smyle.0.9x1.25.19860101-20201231.nc',\n",
       "  'flux_variable': 'SFCO2_OCN'},\n",
       " 'co2_gridfed': {'constituent': 'CO2',\n",
       "  'flux_file': '/glade/work/mclong/sno-analysis/sno-flux-products-camified/SFCO2_FF.GCP-GridFED.v2021.3.0.9x1.25.19860101-20201231.nc',\n",
       "  'flux_variable': 'SFCO2_FF'},\n",
       " 'co2_oco2mip': {'constituent': 'CO2',\n",
       "  'flux_file': '/glade/work/mclong/sno-analysis/sno-flux-products-camified/SFCO2_FF.OCO2-MIP.v2020.1.0.9x1.25.19860101-20201231.nc',\n",
       "  'flux_variable': 'SFCO2_FF'},\n",
       " 'co2_somffn': {'constituent': 'CO2',\n",
       "  'flux_file': '/glade/work/mclong/sno-analysis/sno-flux-products-camified/SFCO2_OCN.MPI-SOM-FFN.0.9x1.25.19860101-20201231.nc',\n",
       "  'flux_variable': 'SFCO2_OCN'},\n",
       " 'n2_cesm': {'constituent': 'N2',\n",
       "  'flux_file': '/glade/work/mclong/sno-analysis/sno-flux-products-camified/SFN2_OCN.cesm_fosi_smyle.0.9x1.25.19860101-20201231.nc',\n",
       "  'flux_variable': 'SFN2_OCN'},\n",
       " 'n2_era': {'constituent': 'N2',\n",
       "  'flux_file': '/glade/work/mclong/sno-analysis/sno-flux-products-camified/SFN2_OCN.era5_shf.0.9x1.25.19860101-20201231.nc',\n",
       "  'flux_variable': 'SFN2_OCN'},\n",
       " 'o2_cesm': {'constituent': 'O2',\n",
       "  'flux_file': '/glade/work/mclong/sno-analysis/sno-flux-products-camified/SFO2_OCN.cesm_fosi_smyle.0.9x1.25.19860101-20201231.nc',\n",
       "  'flux_variable': 'SFO2_OCN'},\n",
       " 'o2_gk01r16': {'constituent': 'O2',\n",
       "  'flux_file': '/glade/work/mclong/sno-analysis/sno-flux-products-camified/SFO2_OCN.gk2001_R2016.0.9x1.25.repeat_monclim.19860101-20201231.nc',\n",
       "  'flux_variable': 'SFO2_OCN'},\n",
       " 'o2_gridfed': {'constituent': 'O2',\n",
       "  'flux_file': '/glade/work/mclong/sno-analysis/sno-flux-products-camified/SFO2_FF.GCP-GridFED.v2021.3.0.9x1.25.19860101-20201231.nc',\n",
       "  'flux_variable': 'SFO2_FF'}}"
      ]
     },
     "execution_count": 26,
     "metadata": {},
     "output_type": "execute_result"
    }
   ],
   "source": [
    "srf_emis_files"
   ]
  },
  {
   "cell_type": "code",
   "execution_count": 27,
   "id": "683e7074-f13e-4124-a62d-4ab64057e179",
   "metadata": {},
   "outputs": [
    {
     "name": "stdout",
     "output_type": "stream",
     "text": [
      "* Comments\n",
      "* User-given Tag Description: CAM_MAM4_2021\n",
      "* Tag database identifier : MZ290_CAM_MAM4_20210504\n",
      "* Tag created by : lke\n",
      "* Tag created from branch : CAM_MAM4\n",
      "* Tag created on : 2021-05-03 18:08:30.812686-06\n",
      "* Comments for this tag follow:\n",
      "*     lke : 2021-05-03 : specified oxidants mechanism for CAM\n",
      "\n",
      "SPECIES\n",
      "\n",
      "  SOLUTION\n",
      "    o2_gridfed -> O2,\n",
      "    o2_gk01r16 -> O2,\n",
      "    o2_cesm -> O2,\n",
      "    n2_era -> N2,\n",
      "    n2_cesm -> N2,\n",
      "    co2_somffn -> CO2,\n",
      "    co2_oco2mip -> CO2,\n",
      "    co2_gridfed -> CO2,\n",
      "    co2_cesm -> CO2,\n",
      "    apo_jena -> O2,\n",
      "    bc_a1 -> C,\n",
      "    bc_a4 -> C,\n",
      "    DMS -> CH3SCH3,\n",
      "    dst_a1 -> AlSiO5,\n",
      "    dst_a2 -> AlSiO5,\n",
      "    dst_a3 -> AlSiO5,\n",
      "    H2O2,\n",
      "    H2SO4,\n",
      "    ncl_a1 -> NaCl,\n",
      "    ncl_a2 -> NaCl,\n",
      "    ncl_a3 -> NaCl,\n",
      "    num_a1 -> H,\n",
      "    num_a2 -> H,\n",
      "    num_a3 -> H,\n",
      "    num_a4 -> H,\n",
      "    pom_a1 -> C,\n",
      "    pom_a4 -> C,\n",
      "    SO2,\n",
      "    so4_a1 -> NH4HSO4,\n",
      "    so4_a2 -> NH4HSO4,\n",
      "    so4_a3 -> NH4HSO4,\n",
      "    SOAG -> C,\n",
      "    soa_a1 -> C,\n",
      "    soa_a2 -> C,\n",
      "    H2O\n",
      "  END SOLUTION\n",
      "\n",
      "  FIXED\n",
      "    M, O2, OH, O3, NO3, HO2, N2\n",
      "  END FIXED\n",
      "\n",
      "  COL-INT\n",
      "    O3 = 0.\n",
      "    O2 = 0.\n",
      "  END COL-INT\n",
      "\n",
      "  NOT-TRANSPORTED\n",
      "\n",
      "  END NOT-TRANSPORTED\n",
      "\n",
      "END SPECIES\n",
      "\n",
      "\n",
      "SOLUTION CLASSES\n",
      "\n",
      "  EXPLICIT\n",
      "    o2_gridfed\n",
      "    o2_gk01r16\n",
      "    o2_cesm\n",
      "    n2_era\n",
      "    n2_cesm\n",
      "    co2_somffn\n",
      "    co2_oco2mip\n",
      "    co2_gridfed\n",
      "    co2_cesm\n",
      "    apo_jena\n",
      "  END EXPLICIT\n",
      "\n",
      "  IMPLICIT\n",
      "    bc_a1\n",
      "    bc_a4\n",
      "    DMS\n",
      "    dst_a1\n",
      "    dst_a2\n",
      "    dst_a3\n",
      "    H2O2\n",
      "    H2SO4\n",
      "    ncl_a1\n",
      "    ncl_a2\n",
      "    ncl_a3\n",
      "    num_a1\n",
      "    num_a2\n",
      "    num_a3\n",
      "    num_a4\n",
      "    pom_a1\n",
      "    pom_a4\n",
      "    SO2\n",
      "    so4_a1\n",
      "    so4_a2\n",
      "    so4_a3\n",
      "    SOAG\n",
      "    soa_a1\n",
      "    soa_a2\n",
      "    H2O\n",
      "  END IMPLICIT\n",
      "\n",
      "END SOLUTION CLASSES\n",
      "\n",
      "\n",
      "CHEMISTRY\n",
      "\n",
      "  PHOTOLYSIS\n",
      "    *********************************\n",
      "    *** odd-oxygen\n",
      "    *********************************\n",
      "    [jh2o2]                       H2O2 + hv -> 2*OH\n",
      "  END PHOTOLYSIS\n",
      "\n",
      "  REACTIONS\n",
      "    *********************************\n",
      "    *** odd-hydrogen\n",
      "    *********************************\n",
      "    [OH_H2O2]              OH + H2O2  -> H2O + HO2                                  ; 1.8e-12\n",
      "    [usr_HO2_HO2]          HO2 + HO2  -> H2O2 + O2\n",
      "    *********************************\n",
      "    *** Sulfur\n",
      "    *********************************\n",
      "    [DMS_NO3]              DMS + NO3  -> SO2 + HNO3                                 ; 1.9e-13, 520\n",
      "    [DMS_OHa]              DMS + OH  -> SO2                                         ; 9.6e-12, -234\n",
      "    [usr_DMS_OH]           DMS + OH  -> 0.5*SO2 + 0.5*HO2\n",
      "    [usr_SO2_OH]           SO2 + OH  -> H2SO4\n",
      "  END REACTIONS\n",
      "\n",
      "  EXT FORCING\n",
      "    SO2 <- dataset\n",
      "    so4_a1 <- dataset\n",
      "    so4_a2 <- dataset\n",
      "    pom_a4 <- dataset\n",
      "    bc_a4 <- dataset\n",
      "    H2O <- dataset\n",
      "    num_a1 <- dataset\n",
      "    num_a2 <- dataset\n",
      "    num_a4 <- dataset\n",
      "  END EXT FORCING\n",
      "\n",
      "END CHEMISTRY\n",
      "\n",
      "\n",
      "SIMULATION PARAMETERS\n",
      "\n",
      "  VERSION OPTIONS\n",
      "    model   = cam\n",
      "    machine = intel\n",
      "    architecture = hybrid\n",
      "    vec_ftns  = on\n",
      "    multitask = on\n",
      "    namemod = on\n",
      "    modules = on\n",
      "  END VERSION OPTIONS\n",
      "\n",
      "END SIMULATION PARAMETERS\n",
      "\n",
      "\n"
     ]
    }
   ],
   "source": [
    "chem_mech_file = f\"{scriptroot}/chem_mech_input/chem_mech_{case}.in\"\n",
    "\n",
    "if create_build_case:\n",
    "    chem_mech = cesm_tools.get_chem_mech_content(chem_mech_template)\n",
    "\n",
    "    srf_emis_specifier_add = []\n",
    "    if srf_emis_files:\n",
    "        \n",
    "        for var, info in srf_emis_files.items():\n",
    "            path = info[\"flux_file\"]\n",
    "            constituent = info[\"constituent\"]\n",
    "            assert os.path.exists(path)\n",
    "            srf_emis_specifier_add.append(f\"'{var} -> {path}'\")\n",
    "\n",
    "            chem_mech[\"species\"][\"solution\"].insert(0, f\"{var} -> {constituent},\")\n",
    "            chem_mech[\"solution classes\"][\"explicit\"].insert(0, f\"{var}\")\n",
    "            \n",
    "            fincl1.extend([var, f'SF{var}', f'TM{var}'])\n",
    "            fincl2.append(var)\n",
    "            sathist_fincl.append(var)\n",
    "            \n",
    "    cesm_tools.write_chem_mech(chem_mech, chem_mech_file)\n",
    "\n",
    "os.environ[\"CHEM_MECH_IN\"] = chem_mech_file\n",
    "\n",
    "!cat ${CHEM_MECH_IN}"
   ]
  },
  {
   "cell_type": "markdown",
   "id": "51475f13-8a20-4cda-8d26-08e2a851543e",
   "metadata": {},
   "source": [
    "### Apply XML settings"
   ]
  },
  {
   "cell_type": "code",
   "execution_count": 28,
   "id": "7bea8d11-3eeb-4dec-a2fe-6e1992f68d24",
   "metadata": {},
   "outputs": [],
   "source": [
    "xmlchange = lambda arg: check_call([\"./xmlchange\", arg], cwd=caseroot)\n",
    "\n",
    "if create_build_case:\n",
    "    xmlchange(\"NTASKS_ATM=720,NTASKS_LND=720,NTASKS_ICE=720,NTASKS_OCN=720\")\n",
    "    xmlchange(\"NTASKS_CPL=720,NTASKS_GLC=1,NTASKS_ROF=720,NTASKS_WAV=720\")\n",
    "\n",
    "    xmlchange(\"PIO_TYPENAME=pnetcdf\")\n",
    "\n",
    "    # Configure option (env_conf.xml)\n",
    "    xmlchange(f\"RUN_STARTDATE={run_startdate}\")\n",
    "\n",
    "    # Change CAM Configure here.\n",
    "    xmlchange(\n",
    "        f\"CAM_CONFIG_OPTS=-nlev 56 -offline_dyn -usr_mech_infile {chem_mech_file}\"\n",
    "    )\n",
    "    xmlchange(\"CALENDAR=GREGORIAN\")\n",
    "\n",
    "    # Switch SST file to evolving\n",
    "    xmlchange(f\"SSTICE_DATA_FILENAME={sst_dataset}\")\n",
    "    xmlchange(f\"SSTICE_YEAR_END={sst_year_end}\")\n",
    "    xmlchange(f\"SSTICE_YEAR_START={sst_year_start}\")\n",
    "    xmlchange(f\"SSTICE_YEAR_ALIGN={sst_year_start}\")\n",
    "else:\n",
    "    xmlchange(\"CONTINUE_RUN=TRUE\")\n",
    "\n",
    "\n",
    "xmlchange(f\"RESUBMIT={resubmit}\")\n",
    "xmlchange(f\"STOP_OPTION={stop_option}\")\n",
    "xmlchange(f\"STOP_N={stop_n}\")\n",
    "xmlchange(f\"REST_OPTION={rest_option}\")\n",
    "xmlchange(f\"REST_N={rest_n}\")\n",
    "xmlchange(f\"JOB_WALLCLOCK_TIME={timewall}\")\n",
    "xmlchange(f\"JOB_QUEUE={queue}\");"
   ]
  },
  {
   "cell_type": "markdown",
   "id": "d88be872-f3ed-44f6-8357-b5faac40ea37",
   "metadata": {},
   "source": [
    "## Run setup"
   ]
  },
  {
   "cell_type": "code",
   "execution_count": 29,
   "id": "13b944bc-cb0f-4c0f-a1d7-1517d0c10928",
   "metadata": {},
   "outputs": [
    {
     "name": "stdout",
     "output_type": "stream",
     "text": [
      "Setting Environment OMP_STACKSIZE=1024M\n",
      "Setting Environment TMPDIR=/glade/scratch/mclong\n",
      "Setting Environment MPI_TYPE_DEPTH=16\n",
      "Setting Environment MPI_IB_CONGESTED=1\n",
      "Setting resource.RLIMIT_STACK to -1 from (307200000, -1)\n"
     ]
    },
    {
     "name": "stderr",
     "output_type": "stream",
     "text": [
      "/glade/work/mclong/cam-sd-cases/cam-sd-cases/cam6327_sd.apo_test_srf_emis.003/env_mach_specific.xml already exists, delete to replace\n",
      "/glade/work/mclong/cam-sd-cases/cam-sd-cases/cam6327_sd.apo_test_srf_emis.003/env_mach_specific.xml already exists, delete to replace\n"
     ]
    },
    {
     "name": "stdout",
     "output_type": "stream",
     "text": [
      "job is case.run USER_REQUESTED_WALLTIME 04:00:00 USER_REQUESTED_QUEUE premium WALLTIME_FORMAT %H:%M:%S\n",
      "Creating batch scripts\n",
      "Writing case.run script from input template /glade/p/cgd/oce/people/mclong/cesm/cam6_3_027/cime/config/cesm/machines/template.case.run\n",
      "Creating file .case.run\n",
      "Writing case.st_archive script from input template /glade/p/cgd/oce/people/mclong/cesm/cam6_3_027/cime/config/cesm/machines/template.st_archive\n",
      "Creating file case.st_archive\n",
      "Creating user_nl_xxx files for components and cpl\n",
      "If an old case build already exists, might want to run 'case.build --clean' before building\n",
      "You can now run './preview_run' to get more info on how your case will be run\n"
     ]
    }
   ],
   "source": [
    "if create_build_case:\n",
    "    check_call(['./case.setup'], cwd=caseroot)"
   ]
  },
  {
   "cell_type": "markdown",
   "id": "6a46dc16-3817-40f7-8134-309b8b9563fc",
   "metadata": {},
   "source": [
    "## Namelist settings"
   ]
  },
  {
   "cell_type": "markdown",
   "id": "4cffa0ee-0b61-4a25-8c75-c4d929e4c717",
   "metadata": {},
   "source": [
    "### External forcing tracers"
   ]
  },
  {
   "cell_type": "code",
   "execution_count": 30,
   "id": "1fd7f058-8ab6-4431-a4aa-5dbd1a9bb560",
   "metadata": {},
   "outputs": [],
   "source": [
    "ext_frc_specifier = [\n",
    "    f\"'H2O -> {inputdata}/atm/cam/chem/emis/elev/H2OemissionCH4oxidationx2_3D_L70_1849-2101_CMIP6ensAvg_SSP2-4.5_c190403.nc'\",\n",
    "    f\"'num_a1 -> {inputdata}/atm/cam/chem/emis/emissions_ssp245/emissions-cmip6-ScenarioMIP_IAMC-MESSAGE-GLOBIOM-ssp245-1-1_num_so4_a1_anthro-ene_vertical_mol_175001-210101_0.9x1.25_c20201129.nc'\",\n",
    "    f\"'num_a1 -> {inputdata}/atm/cam/chem/emis/CMIP6_emissions_1750_2015/emissions-cmip6_num_so4_a1_contvolcano_vertical_1750-2100_0.9x1.25_c20170322.nc'\",\n",
    "    f\"'num_a2 -> {inputdata}/atm/cam/chem/emis/CMIP6_emissions_1750_2015/emissions-cmip6_num_so4_a2_contvolcano_vertical_1750-2100_0.9x1.25_c20170322.nc'\",\n",
    "    f\"'SO2 -> {inputdata}/atm/cam/chem/emis/CMIP6_emissions_1750_2015/emissions-cmip6_SO2_contvolcano_vertical_1750-2100_0.9x1.25_c20170322.nc'\",\n",
    "    f\"'so4_a1 -> {inputdata}/atm/cam/chem/emis/emissions_ssp245/emissions-cmip6-ScenarioMIP_IAMC-MESSAGE-GLOBIOM-ssp245-1-1_so4_a1_anthro-ene_vertical_mol_175001-210101_0.9x1.25_c20201129.nc'\",\n",
    "    f\"'so4_a1 -> {inputdata}/atm/cam/chem/emis/CMIP6_emissions_1750_2015/emissions-cmip6_so4_a1_contvolcano_vertical_1750-2100_0.9x1.25_c20170322.nc'\",\n",
    "    f\"'so4_a2 -> {inputdata}/atm/cam/chem/emis/CMIP6_emissions_1750_2015/emissions-cmip6_so4_a2_contvolcano_vertical_1750-2100_0.9x1.25_c20170322.nc'\",\n",
    "]"
   ]
  },
  {
   "cell_type": "markdown",
   "id": "22258eb2-d76f-4e41-b5ba-40f4b35e2dea",
   "metadata": {},
   "source": [
    "### Surface Emissions Tracers"
   ]
  },
  {
   "cell_type": "code",
   "execution_count": 31,
   "id": "67de34cb-e799-4382-9978-bffa54a0ee70",
   "metadata": {},
   "outputs": [
    {
     "data": {
      "text/plain": [
       "[\"'bc_a4 -> /glade/p/cesmdata/cseg/inputdata/atm/cam/chem/emis/emissions_ssp245/emissions-cmip6-ScenarioMIP_IAMC-MESSAGE-GLOBIOM-ssp245-1-1_bc_a4_anthro_surface_mol_175001-210101_0.9x1.25_c20190222.nc'\",\n",
       " \"'bc_a4 -> /glade/p/cesmdata/cseg/inputdata/atm/cam/chem/emis/emissions_ssp245/emissions-cmip6-ScenarioMIP_IAMC-MESSAGE-GLOBIOM-ssp245-1-1_bc_a4_bb_surface_mol_175001-210101_0.9x1.25_c20190222.nc'\",\n",
       " \"'DMS -> /glade/p/cesmdata/cseg/inputdata/atm/cam/chem/emis/emissions_ssp245/emissions-cmip6-ScenarioMIP_IAMC-MESSAGE-GLOBIOM-ssp245-1-1_DMS_bb_surface_mol_175001-210101_0.9x1.25_c20190222.nc'\",\n",
       " \"'DMS -> /glade/p/cesmdata/cseg/inputdata/atm/cam/chem/emis/emissions_ssp245/emissions-cmip6-SSP_DMS_other_surface_mol_175001-210101_0.9x1.25_c20190222.nc'\",\n",
       " \"'num_a1 -> /glade/p/cesmdata/cseg/inputdata/atm/cam/chem/emis/emissions_ssp245/emissions-cmip6-ScenarioMIP_IAMC-MESSAGE-GLOBIOM-ssp245-1-1_num_so4_a1_bb_surface_mol_175001-210101_0.9x1.25_c20190222.nc'\",\n",
       " \"'num_a1 -> /glade/p/cesmdata/cseg/inputdata/atm/cam/chem/emis/emissions_ssp245/emissions-cmip6-ScenarioMIP_IAMC-MESSAGE-GLOBIOM-ssp245-1-1_num_so4_a1_anthro-ag-ship_surface_mol_175001-210101_0.9x1.25_c20190222.nc'\",\n",
       " \"'num_a2 -> /glade/p/cesmdata/cseg/inputdata/atm/cam/chem/emis/emissions_ssp245/emissions-cmip6-ScenarioMIP_IAMC-MESSAGE-GLOBIOM-ssp245-1-1_num_so4_a2_anthro-res_surface_mol_175001-210101_0.9x1.25_c20190222.nc'\",\n",
       " \"'num_a4 -> /glade/p/cesmdata/cseg/inputdata/atm/cam/chem/emis/emissions_ssp245/emissions-cmip6-ScenarioMIP_IAMC-MESSAGE-GLOBIOM-ssp245-1-1_num_bc_a4_bb_surface_mol_175001-210101_0.9x1.25_c20190222.nc'\",\n",
       " \"'num_a4 -> /glade/p/cesmdata/cseg/inputdata/atm/cam/chem/emis/emissions_ssp245/emissions-cmip6-ScenarioMIP_IAMC-MESSAGE-GLOBIOM-ssp245-1-1_num_bc_a4_anthro_surface_mol_175001-210101_0.9x1.25_c20190222.nc'\",\n",
       " \"'num_a4 -> /glade/p/cesmdata/cseg/inputdata/atm/cam/chem/emis/emissions_ssp245/emissions-cmip6-ScenarioMIP_IAMC-MESSAGE-GLOBIOM-ssp245-1-1_num_pom_a4_anthro_surface_mol_175001-210101_0.9x1.25_c20190222.nc'\",\n",
       " \"'num_a4 -> /glade/p/cesmdata/cseg/inputdata/atm/cam/chem/emis/emissions_ssp245/emissions-cmip6-ScenarioMIP_IAMC-MESSAGE-GLOBIOM-ssp245-1-1_num_pom_a4_bb_surface_mol_175001-210101_0.9x1.25_c20190222.nc'\",\n",
       " \"'pom_a4 -> /glade/p/cesmdata/cseg/inputdata/atm/cam/chem/emis/emissions_ssp245/emissions-cmip6-ScenarioMIP_IAMC-MESSAGE-GLOBIOM-ssp245-1-1_pom_a4_anthro_surface_mol_175001-210101_0.9x1.25_c20190222.nc'\",\n",
       " \"'pom_a4 -> /glade/p/cesmdata/cseg/inputdata/atm/cam/chem/emis/emissions_ssp245/emissions-cmip6-ScenarioMIP_IAMC-MESSAGE-GLOBIOM-ssp245-1-1_pom_a4_bb_surface_mol_175001-210101_0.9x1.25_c20190222.nc'\",\n",
       " \"'SO2 -> /glade/p/cesmdata/cseg/inputdata/atm/cam/chem/emis/emissions_ssp245/emissions-cmip6-ScenarioMIP_IAMC-MESSAGE-GLOBIOM-ssp245-1-1_SO2_anthro-ag-ship-res_surface_mol_175001-210101_0.9x1.25_c20190222.nc'\",\n",
       " \"'SO2 -> /glade/p/cesmdata/cseg/inputdata/atm/cam/chem/emis/emissions_ssp245/emissions-cmip6-ScenarioMIP_IAMC-MESSAGE-GLOBIOM-ssp245-1-1_SO2_anthro-ene_surface_mol_175001-210101_0.9x1.25_c20190222.nc'\",\n",
       " \"'SO2 -> /glade/p/cesmdata/cseg/inputdata/atm/cam/chem/emis/emissions_ssp245/emissions-cmip6-ScenarioMIP_IAMC-MESSAGE-GLOBIOM-ssp245-1-1_SO2_bb_surface_mol_175001-210101_0.9x1.25_c20190222.nc'\",\n",
       " \"'so4_a1 -> /glade/p/cesmdata/cseg/inputdata/atm/cam/chem/emis/emissions_ssp245/emissions-cmip6-ScenarioMIP_IAMC-MESSAGE-GLOBIOM-ssp245-1-1_so4_a1_anthro-ag-ship_surface_mol_175001-210101_0.9x1.25_c20190222.nc'\",\n",
       " \"'so4_a1 -> /glade/p/cesmdata/cseg/inputdata/atm/cam/chem/emis/emissions_ssp245/emissions-cmip6-ScenarioMIP_IAMC-MESSAGE-GLOBIOM-ssp245-1-1_so4_a1_bb_surface_mol_175001-210101_0.9x1.25_c20190222.nc'\",\n",
       " \"'so4_a2 -> /glade/p/cesmdata/cseg/inputdata/atm/cam/chem/emis/emissions_ssp245/emissions-cmip6-ScenarioMIP_IAMC-MESSAGE-GLOBIOM-ssp245-1-1_so4_a2_anthro-res_surface_mol_175001-210101_0.9x1.25_c20190222.nc'\",\n",
       " \"'SOAG -> /glade/p/cesmdata/cseg/inputdata/atm/cam/chem/emis/emissions_ssp245/emissions-cmip6-ScenarioMIP_IAMC-MESSAGE-GLOBIOM-ssp245-1-1_SOAGx1.5_anthro_surface_mol_175001-210101_0.9x1.25_c20190222.nc'\",\n",
       " \"'SOAG -> /glade/p/cesmdata/cseg/inputdata/atm/cam/chem/emis/emissions_ssp245/emissions-cmip6-ScenarioMIP_IAMC-MESSAGE-GLOBIOM-ssp245-1-1_SOAGx1.5_bb_surface_mol_175001-210101_0.9x1.25_c20190222.nc'\",\n",
       " \"'SOAG -> /glade/p/cesmdata/cseg/inputdata/atm/cam/chem/emis/emissions_ssp/emissions-cmip6-SOAGx1.5_biogenic_surface_mol_175001-210101_0.9x1.25_c20190329.nc'\",\n",
       " \"'apo_jena -> /glade/work/mclong/sno-analysis/sno-flux-products-camified/SFAPO_OCN.carboscope.apo99X_v2021.0.9x1.25.19860101-20201231.nc'\",\n",
       " \"'co2_cesm -> /glade/work/mclong/sno-analysis/sno-flux-products-camified/SFCO2_OCN.cesm_fosi_smyle.0.9x1.25.19860101-20201231.nc'\",\n",
       " \"'co2_gridfed -> /glade/work/mclong/sno-analysis/sno-flux-products-camified/SFCO2_FF.GCP-GridFED.v2021.3.0.9x1.25.19860101-20201231.nc'\",\n",
       " \"'co2_oco2mip -> /glade/work/mclong/sno-analysis/sno-flux-products-camified/SFCO2_FF.OCO2-MIP.v2020.1.0.9x1.25.19860101-20201231.nc'\",\n",
       " \"'co2_somffn -> /glade/work/mclong/sno-analysis/sno-flux-products-camified/SFCO2_OCN.MPI-SOM-FFN.0.9x1.25.19860101-20201231.nc'\",\n",
       " \"'n2_cesm -> /glade/work/mclong/sno-analysis/sno-flux-products-camified/SFN2_OCN.cesm_fosi_smyle.0.9x1.25.19860101-20201231.nc'\",\n",
       " \"'n2_era -> /glade/work/mclong/sno-analysis/sno-flux-products-camified/SFN2_OCN.era5_shf.0.9x1.25.19860101-20201231.nc'\",\n",
       " \"'o2_cesm -> /glade/work/mclong/sno-analysis/sno-flux-products-camified/SFO2_OCN.cesm_fosi_smyle.0.9x1.25.19860101-20201231.nc'\",\n",
       " \"'o2_gk01r16 -> /glade/work/mclong/sno-analysis/sno-flux-products-camified/SFO2_OCN.gk2001_R2016.0.9x1.25.repeat_monclim.19860101-20201231.nc'\",\n",
       " \"'o2_gridfed -> /glade/work/mclong/sno-analysis/sno-flux-products-camified/SFO2_FF.GCP-GridFED.v2021.3.0.9x1.25.19860101-20201231.nc'\"]"
      ]
     },
     "execution_count": 31,
     "metadata": {},
     "output_type": "execute_result"
    }
   ],
   "source": [
    "srf_emis_specifier_default = [\n",
    "    f\"'bc_a4 -> {inputdata}/atm/cam/chem/emis/emissions_ssp245/emissions-cmip6-ScenarioMIP_IAMC-MESSAGE-GLOBIOM-ssp245-1-1_bc_a4_anthro_surface_mol_175001-210101_0.9x1.25_c20190222.nc'\",\n",
    "    f\"'bc_a4 -> {inputdata}/atm/cam/chem/emis/emissions_ssp245/emissions-cmip6-ScenarioMIP_IAMC-MESSAGE-GLOBIOM-ssp245-1-1_bc_a4_bb_surface_mol_175001-210101_0.9x1.25_c20190222.nc'\",\n",
    "    f\"'DMS -> {inputdata}/atm/cam/chem/emis/emissions_ssp245/emissions-cmip6-ScenarioMIP_IAMC-MESSAGE-GLOBIOM-ssp245-1-1_DMS_bb_surface_mol_175001-210101_0.9x1.25_c20190222.nc'\",\n",
    "    f\"'DMS -> {inputdata}/atm/cam/chem/emis/emissions_ssp245/emissions-cmip6-SSP_DMS_other_surface_mol_175001-210101_0.9x1.25_c20190222.nc'\",\n",
    "    f\"'num_a1 -> {inputdata}/atm/cam/chem/emis/emissions_ssp245/emissions-cmip6-ScenarioMIP_IAMC-MESSAGE-GLOBIOM-ssp245-1-1_num_so4_a1_bb_surface_mol_175001-210101_0.9x1.25_c20190222.nc'\",\n",
    "    f\"'num_a1 -> {inputdata}/atm/cam/chem/emis/emissions_ssp245/emissions-cmip6-ScenarioMIP_IAMC-MESSAGE-GLOBIOM-ssp245-1-1_num_so4_a1_anthro-ag-ship_surface_mol_175001-210101_0.9x1.25_c20190222.nc'\",\n",
    "    f\"'num_a2 -> {inputdata}/atm/cam/chem/emis/emissions_ssp245/emissions-cmip6-ScenarioMIP_IAMC-MESSAGE-GLOBIOM-ssp245-1-1_num_so4_a2_anthro-res_surface_mol_175001-210101_0.9x1.25_c20190222.nc'\",\n",
    "    f\"'num_a4 -> {inputdata}/atm/cam/chem/emis/emissions_ssp245/emissions-cmip6-ScenarioMIP_IAMC-MESSAGE-GLOBIOM-ssp245-1-1_num_bc_a4_bb_surface_mol_175001-210101_0.9x1.25_c20190222.nc'\",\n",
    "    f\"'num_a4 -> {inputdata}/atm/cam/chem/emis/emissions_ssp245/emissions-cmip6-ScenarioMIP_IAMC-MESSAGE-GLOBIOM-ssp245-1-1_num_bc_a4_anthro_surface_mol_175001-210101_0.9x1.25_c20190222.nc'\",\n",
    "    f\"'num_a4 -> {inputdata}/atm/cam/chem/emis/emissions_ssp245/emissions-cmip6-ScenarioMIP_IAMC-MESSAGE-GLOBIOM-ssp245-1-1_num_pom_a4_anthro_surface_mol_175001-210101_0.9x1.25_c20190222.nc'\",\n",
    "    f\"'num_a4 -> {inputdata}/atm/cam/chem/emis/emissions_ssp245/emissions-cmip6-ScenarioMIP_IAMC-MESSAGE-GLOBIOM-ssp245-1-1_num_pom_a4_bb_surface_mol_175001-210101_0.9x1.25_c20190222.nc'\",\n",
    "    f\"'pom_a4 -> {inputdata}/atm/cam/chem/emis/emissions_ssp245/emissions-cmip6-ScenarioMIP_IAMC-MESSAGE-GLOBIOM-ssp245-1-1_pom_a4_anthro_surface_mol_175001-210101_0.9x1.25_c20190222.nc'\",\n",
    "    f\"'pom_a4 -> {inputdata}/atm/cam/chem/emis/emissions_ssp245/emissions-cmip6-ScenarioMIP_IAMC-MESSAGE-GLOBIOM-ssp245-1-1_pom_a4_bb_surface_mol_175001-210101_0.9x1.25_c20190222.nc'\",\n",
    "    f\"'SO2 -> {inputdata}/atm/cam/chem/emis/emissions_ssp245/emissions-cmip6-ScenarioMIP_IAMC-MESSAGE-GLOBIOM-ssp245-1-1_SO2_anthro-ag-ship-res_surface_mol_175001-210101_0.9x1.25_c20190222.nc'\",\n",
    "    f\"'SO2 -> {inputdata}/atm/cam/chem/emis/emissions_ssp245/emissions-cmip6-ScenarioMIP_IAMC-MESSAGE-GLOBIOM-ssp245-1-1_SO2_anthro-ene_surface_mol_175001-210101_0.9x1.25_c20190222.nc'\",\n",
    "    f\"'SO2 -> {inputdata}/atm/cam/chem/emis/emissions_ssp245/emissions-cmip6-ScenarioMIP_IAMC-MESSAGE-GLOBIOM-ssp245-1-1_SO2_bb_surface_mol_175001-210101_0.9x1.25_c20190222.nc'\",\n",
    "    f\"'so4_a1 -> {inputdata}/atm/cam/chem/emis/emissions_ssp245/emissions-cmip6-ScenarioMIP_IAMC-MESSAGE-GLOBIOM-ssp245-1-1_so4_a1_anthro-ag-ship_surface_mol_175001-210101_0.9x1.25_c20190222.nc'\",\n",
    "    f\"'so4_a1 -> {inputdata}/atm/cam/chem/emis/emissions_ssp245/emissions-cmip6-ScenarioMIP_IAMC-MESSAGE-GLOBIOM-ssp245-1-1_so4_a1_bb_surface_mol_175001-210101_0.9x1.25_c20190222.nc'\",\n",
    "    f\"'so4_a2 -> {inputdata}/atm/cam/chem/emis/emissions_ssp245/emissions-cmip6-ScenarioMIP_IAMC-MESSAGE-GLOBIOM-ssp245-1-1_so4_a2_anthro-res_surface_mol_175001-210101_0.9x1.25_c20190222.nc'\",\n",
    "    f\"'SOAG -> {inputdata}/atm/cam/chem/emis/emissions_ssp245/emissions-cmip6-ScenarioMIP_IAMC-MESSAGE-GLOBIOM-ssp245-1-1_SOAGx1.5_anthro_surface_mol_175001-210101_0.9x1.25_c20190222.nc'\",\n",
    "    f\"'SOAG -> {inputdata}/atm/cam/chem/emis/emissions_ssp245/emissions-cmip6-ScenarioMIP_IAMC-MESSAGE-GLOBIOM-ssp245-1-1_SOAGx1.5_bb_surface_mol_175001-210101_0.9x1.25_c20190222.nc'\",\n",
    "    f\"'SOAG -> {inputdata}/atm/cam/chem/emis/emissions_ssp/emissions-cmip6-SOAGx1.5_biogenic_surface_mol_175001-210101_0.9x1.25_c20190329.nc'\",\n",
    "]\n",
    "\n",
    "srf_emis_specifier = srf_emis_specifier_default + srf_emis_specifier_add\n",
    "srf_emis_specifier    "
   ]
  },
  {
   "cell_type": "markdown",
   "id": "16865a3d-731a-439c-8c34-e621793110fc",
   "metadata": {},
   "source": [
    "### Fixed Lower Boundary Condition Tracers"
   ]
  },
  {
   "cell_type": "code",
   "execution_count": 32,
   "id": "4f9902de-8a40-40c3-9044-84679219b697",
   "metadata": {},
   "outputs": [],
   "source": [
    "flbc_file_default = f'{inputdata}/atm/waccm/lb/LBC_1750-2500_CMIP6_SSP245_0p5degLat_GlobAnnAvg_c190828.nc'\n",
    "flbc_list_default = ['CO2','CH4','N2O','CFC11eq','CFC12']\n",
    "\n",
    "# make modifications\n",
    "\n",
    "flbc_file = flbc_file_default\n",
    "flbc_list = list(flbc_list_default)"
   ]
  },
  {
   "cell_type": "markdown",
   "id": "cd843fde-ef90-4636-aff7-74ee8a38c4fe",
   "metadata": {},
   "source": [
    "### Write namelist modifcations"
   ]
  },
  {
   "cell_type": "code",
   "execution_count": 33,
   "id": "0eecd3c5-ff7e-49b4-b382-5211400c5326",
   "metadata": {},
   "outputs": [
    {
     "name": "stdout",
     "output_type": "stream",
     "text": [
      "\n",
      "&camexp\n",
      "  ncdata = '/glade/work/mclong/cam-sd-cases/data/f.e20.FWAMIP.f09_f09.134.1975.009.cam.i.2010-01-01_56L_c170403.apo-forward-tracers.nc'\n",
      "  bnd_topo = '/glade/work/tilmes/inputdata/topo/fv_0.9x1.25_nc3000_Nsw042_Nrs008_Co060_Fi001_ZR_merra2.nc'\n",
      "  dust_emis_fact = 0.7D0\n",
      "  soil_erod_file = '/glade/u/home/mahowald/dst_source2x2tunedcam6-2x2-04062017.nc'\n",
      "  ext_frc_type = 'SERIAL'\n",
      "  ext_frc_specifier = 'H2O -> /glade/p/cesmdata/cseg/inputdata/atm/cam/chem/emis/elev/H2OemissionCH4oxidationx2_3D_L70_1849-2101_CMIP6ensAvg_SSP2-4.5_c190403.nc', 'num_a1 -> /glade/p/cesmdata/cseg/inputdata/atm/cam/chem/emis/emissions_ssp245/emissions-cmip6-ScenarioMIP_IAMC-MESSAGE-GLOBIOM-ssp245-1-1_num_so4_a1_anthro-ene_vertical_mol_175001-210101_0.9x1.25_c20201129.nc', 'num_a1 -> /glade/p/cesmdata/cseg/inputdata/atm/cam/chem/emis/CMIP6_emissions_1750_2015/emissions-cmip6_num_so4_a1_contvolcano_vertical_1750-2100_0.9x1.25_c20170322.nc', 'num_a2 -> /glade/p/cesmdata/cseg/inputdata/atm/cam/chem/emis/CMIP6_emissions_1750_2015/emissions-cmip6_num_so4_a2_contvolcano_vertical_1750-2100_0.9x1.25_c20170322.nc', 'SO2 -> /glade/p/cesmdata/cseg/inputdata/atm/cam/chem/emis/CMIP6_emissions_1750_2015/emissions-cmip6_SO2_contvolcano_vertical_1750-2100_0.9x1.25_c20170322.nc', 'so4_a1 -> /glade/p/cesmdata/cseg/inputdata/atm/cam/chem/emis/emissions_ssp245/emissions-cmip6-ScenarioMIP_IAMC-MESSAGE-GLOBIOM-ssp245-1-1_so4_a1_anthro-ene_vertical_mol_175001-210101_0.9x1.25_c20201129.nc', 'so4_a1 -> /glade/p/cesmdata/cseg/inputdata/atm/cam/chem/emis/CMIP6_emissions_1750_2015/emissions-cmip6_so4_a1_contvolcano_vertical_1750-2100_0.9x1.25_c20170322.nc', 'so4_a2 -> /glade/p/cesmdata/cseg/inputdata/atm/cam/chem/emis/CMIP6_emissions_1750_2015/emissions-cmip6_so4_a2_contvolcano_vertical_1750-2100_0.9x1.25_c20170322.nc'\n",
      "  srf_emis_type = 'INTERP_MISSING_MONTHS'\n",
      "  srf_emis_specifier = 'bc_a4 -> /glade/p/cesmdata/cseg/inputdata/atm/cam/chem/emis/emissions_ssp245/emissions-cmip6-ScenarioMIP_IAMC-MESSAGE-GLOBIOM-ssp245-1-1_bc_a4_anthro_surface_mol_175001-210101_0.9x1.25_c20190222.nc', 'bc_a4 -> /glade/p/cesmdata/cseg/inputdata/atm/cam/chem/emis/emissions_ssp245/emissions-cmip6-ScenarioMIP_IAMC-MESSAGE-GLOBIOM-ssp245-1-1_bc_a4_bb_surface_mol_175001-210101_0.9x1.25_c20190222.nc', 'DMS -> /glade/p/cesmdata/cseg/inputdata/atm/cam/chem/emis/emissions_ssp245/emissions-cmip6-ScenarioMIP_IAMC-MESSAGE-GLOBIOM-ssp245-1-1_DMS_bb_surface_mol_175001-210101_0.9x1.25_c20190222.nc', 'DMS -> /glade/p/cesmdata/cseg/inputdata/atm/cam/chem/emis/emissions_ssp245/emissions-cmip6-SSP_DMS_other_surface_mol_175001-210101_0.9x1.25_c20190222.nc', 'num_a1 -> /glade/p/cesmdata/cseg/inputdata/atm/cam/chem/emis/emissions_ssp245/emissions-cmip6-ScenarioMIP_IAMC-MESSAGE-GLOBIOM-ssp245-1-1_num_so4_a1_bb_surface_mol_175001-210101_0.9x1.25_c20190222.nc', 'num_a1 -> /glade/p/cesmdata/cseg/inputdata/atm/cam/chem/emis/emissions_ssp245/emissions-cmip6-ScenarioMIP_IAMC-MESSAGE-GLOBIOM-ssp245-1-1_num_so4_a1_anthro-ag-ship_surface_mol_175001-210101_0.9x1.25_c20190222.nc', 'num_a2 -> /glade/p/cesmdata/cseg/inputdata/atm/cam/chem/emis/emissions_ssp245/emissions-cmip6-ScenarioMIP_IAMC-MESSAGE-GLOBIOM-ssp245-1-1_num_so4_a2_anthro-res_surface_mol_175001-210101_0.9x1.25_c20190222.nc', 'num_a4 -> /glade/p/cesmdata/cseg/inputdata/atm/cam/chem/emis/emissions_ssp245/emissions-cmip6-ScenarioMIP_IAMC-MESSAGE-GLOBIOM-ssp245-1-1_num_bc_a4_bb_surface_mol_175001-210101_0.9x1.25_c20190222.nc', 'num_a4 -> /glade/p/cesmdata/cseg/inputdata/atm/cam/chem/emis/emissions_ssp245/emissions-cmip6-ScenarioMIP_IAMC-MESSAGE-GLOBIOM-ssp245-1-1_num_bc_a4_anthro_surface_mol_175001-210101_0.9x1.25_c20190222.nc', 'num_a4 -> /glade/p/cesmdata/cseg/inputdata/atm/cam/chem/emis/emissions_ssp245/emissions-cmip6-ScenarioMIP_IAMC-MESSAGE-GLOBIOM-ssp245-1-1_num_pom_a4_anthro_surface_mol_175001-210101_0.9x1.25_c20190222.nc', 'num_a4 -> /glade/p/cesmdata/cseg/inputdata/atm/cam/chem/emis/emissions_ssp245/emissions-cmip6-ScenarioMIP_IAMC-MESSAGE-GLOBIOM-ssp245-1-1_num_pom_a4_bb_surface_mol_175001-210101_0.9x1.25_c20190222.nc', 'pom_a4 -> /glade/p/cesmdata/cseg/inputdata/atm/cam/chem/emis/emissions_ssp245/emissions-cmip6-ScenarioMIP_IAMC-MESSAGE-GLOBIOM-ssp245-1-1_pom_a4_anthro_surface_mol_175001-210101_0.9x1.25_c20190222.nc', 'pom_a4 -> /glade/p/cesmdata/cseg/inputdata/atm/cam/chem/emis/emissions_ssp245/emissions-cmip6-ScenarioMIP_IAMC-MESSAGE-GLOBIOM-ssp245-1-1_pom_a4_bb_surface_mol_175001-210101_0.9x1.25_c20190222.nc', 'SO2 -> /glade/p/cesmdata/cseg/inputdata/atm/cam/chem/emis/emissions_ssp245/emissions-cmip6-ScenarioMIP_IAMC-MESSAGE-GLOBIOM-ssp245-1-1_SO2_anthro-ag-ship-res_surface_mol_175001-210101_0.9x1.25_c20190222.nc', 'SO2 -> /glade/p/cesmdata/cseg/inputdata/atm/cam/chem/emis/emissions_ssp245/emissions-cmip6-ScenarioMIP_IAMC-MESSAGE-GLOBIOM-ssp245-1-1_SO2_anthro-ene_surface_mol_175001-210101_0.9x1.25_c20190222.nc', 'SO2 -> /glade/p/cesmdata/cseg/inputdata/atm/cam/chem/emis/emissions_ssp245/emissions-cmip6-ScenarioMIP_IAMC-MESSAGE-GLOBIOM-ssp245-1-1_SO2_bb_surface_mol_175001-210101_0.9x1.25_c20190222.nc', 'so4_a1 -> /glade/p/cesmdata/cseg/inputdata/atm/cam/chem/emis/emissions_ssp245/emissions-cmip6-ScenarioMIP_IAMC-MESSAGE-GLOBIOM-ssp245-1-1_so4_a1_anthro-ag-ship_surface_mol_175001-210101_0.9x1.25_c20190222.nc', 'so4_a1 -> /glade/p/cesmdata/cseg/inputdata/atm/cam/chem/emis/emissions_ssp245/emissions-cmip6-ScenarioMIP_IAMC-MESSAGE-GLOBIOM-ssp245-1-1_so4_a1_bb_surface_mol_175001-210101_0.9x1.25_c20190222.nc', 'so4_a2 -> /glade/p/cesmdata/cseg/inputdata/atm/cam/chem/emis/emissions_ssp245/emissions-cmip6-ScenarioMIP_IAMC-MESSAGE-GLOBIOM-ssp245-1-1_so4_a2_anthro-res_surface_mol_175001-210101_0.9x1.25_c20190222.nc', 'SOAG -> /glade/p/cesmdata/cseg/inputdata/atm/cam/chem/emis/emissions_ssp245/emissions-cmip6-ScenarioMIP_IAMC-MESSAGE-GLOBIOM-ssp245-1-1_SOAGx1.5_anthro_surface_mol_175001-210101_0.9x1.25_c20190222.nc', 'SOAG -> /glade/p/cesmdata/cseg/inputdata/atm/cam/chem/emis/emissions_ssp245/emissions-cmip6-ScenarioMIP_IAMC-MESSAGE-GLOBIOM-ssp245-1-1_SOAGx1.5_bb_surface_mol_175001-210101_0.9x1.25_c20190222.nc', 'SOAG -> /glade/p/cesmdata/cseg/inputdata/atm/cam/chem/emis/emissions_ssp/emissions-cmip6-SOAGx1.5_biogenic_surface_mol_175001-210101_0.9x1.25_c20190329.nc', 'apo_jena -> /glade/work/mclong/sno-analysis/sno-flux-products-camified/SFAPO_OCN.carboscope.apo99X_v2021.0.9x1.25.19860101-20201231.nc', 'co2_cesm -> /glade/work/mclong/sno-analysis/sno-flux-products-camified/SFCO2_OCN.cesm_fosi_smyle.0.9x1.25.19860101-20201231.nc', 'co2_gridfed -> /glade/work/mclong/sno-analysis/sno-flux-products-camified/SFCO2_FF.GCP-GridFED.v2021.3.0.9x1.25.19860101-20201231.nc', 'co2_oco2mip -> /glade/work/mclong/sno-analysis/sno-flux-products-camified/SFCO2_FF.OCO2-MIP.v2020.1.0.9x1.25.19860101-20201231.nc', 'co2_somffn -> /glade/work/mclong/sno-analysis/sno-flux-products-camified/SFCO2_OCN.MPI-SOM-FFN.0.9x1.25.19860101-20201231.nc', 'n2_cesm -> /glade/work/mclong/sno-analysis/sno-flux-products-camified/SFN2_OCN.cesm_fosi_smyle.0.9x1.25.19860101-20201231.nc', 'n2_era -> /glade/work/mclong/sno-analysis/sno-flux-products-camified/SFN2_OCN.era5_shf.0.9x1.25.19860101-20201231.nc', 'o2_cesm -> /glade/work/mclong/sno-analysis/sno-flux-products-camified/SFO2_OCN.cesm_fosi_smyle.0.9x1.25.19860101-20201231.nc', 'o2_gk01r16 -> /glade/work/mclong/sno-analysis/sno-flux-products-camified/SFO2_OCN.gk2001_R2016.0.9x1.25.repeat_monclim.19860101-20201231.nc', 'o2_gridfed -> /glade/work/mclong/sno-analysis/sno-flux-products-camified/SFO2_FF.GCP-GridFED.v2021.3.0.9x1.25.19860101-20201231.nc'\n",
      "  flbc_file = '/glade/p/cesmdata/cseg/inputdata/atm/waccm/lb/LBC_1750-2500_CMIP6_SSP245_0p5degLat_GlobAnnAvg_c190828.nc'\n",
      "  flbc_list = 'CO2', 'CH4', 'N2O', 'CFC11eq', 'CFC12'\n",
      "  flbc_type = 'SERIAL'\n",
      "  scenario_ghg = 'CHEM_LBC_FILE'\n",
      "/\n",
      "&metdata_nl\n",
      "  met_nudge_temp = .false.\n",
      "  met_data_file = '2016/MERRA2_0.9x1.25_20160101.nc'\n",
      "  met_data_path = '/glade/p/cesmdata/cseg/inputdata/atm/cam/met/MERRA2/0.9x1.25/'\n",
      "  met_filenames_list = '/glade/p/cesmdata/cseg/inputdata/atm/cam/met/MERRA2/0.9x1.25/filenames_1975-2021_c220109.txt'\n",
      "  met_fix_mass = .true.\n",
      "  met_qflx_factor = 1.0\n",
      "  met_rlx_time = 24.\n",
      "  met_srf_land = .false.\n",
      "  met_srf_land_scale = .false.\n",
      "  met_srf_nudge_flux = .false.\n",
      "  met_srf_rad = .false.\n",
      "  met_srf_refs = .false.\n",
      "  met_srf_sst = .false.\n",
      "  met_srf_tau = .false.\n",
      "/\n",
      "&rad_cnst_nl\n",
      " rad_diag_1 = 'A:Q:H2O', 'N:O2:O2', 'N:CO2:CO2', 'N:ozone:O3', 'N:N2O:N2O', 'N:CH4:CH4', \n",
      "              'N:CFC11:CFC11', 'N:CFC12:CFC12'\n",
      "/ \n",
      "&satellite_options_nl\n",
      "  sathist_mfilt = 10000\n",
      "  sathist_track_infile = '/glade/work/mclong/cam-sd-cases/data/sathist_infile.hip-orc-tom-aoa.20220303.nc'\n",
      "  sathist_fincl = 'T','U','V','Q','PS','apo_jena','co2_cesm','co2_gridfed','co2_oco2mip','co2_somffn','n2_cesm','n2_era','o2_cesm','o2_gk01r16','o2_gridfed'\n",
      "/\n",
      "&cam_history_nl\n",
      "  fincl1 = 'U','V','T','Q','PS','apo_jena','SFapo_jena','TMapo_jena','co2_cesm','SFco2_cesm','TMco2_cesm','co2_gridfed','SFco2_gridfed','TMco2_gridfed','co2_oco2mip','SFco2_oco2mip','TMco2_oco2mip','co2_somffn','SFco2_somffn','TMco2_somffn','n2_cesm','SFn2_cesm','TMn2_cesm','n2_era','SFn2_era','TMn2_era','o2_cesm','SFo2_cesm','TMo2_cesm','o2_gk01r16','SFo2_gk01r16','TMo2_gk01r16','o2_gridfed','SFo2_gridfed','TMo2_gridfed'\n",
      "  fincl2 = 'U','V','T','Q','PS','apo_jena','co2_cesm','co2_gridfed','co2_oco2mip','co2_somffn','n2_cesm','n2_era','o2_cesm','o2_gk01r16','o2_gridfed'\n",
      "  fincl2lonlat = '62.507w_82.451n','156.611w_71.323n','162.720w_55.210n','144.690e_40.683s','64.222w_57.023s','63.317w_59.026s','60.621w_61.042s','61.123w_63.077s','63.855w_64.785s','154.888w_19.561n','117.257w_32.867n','155.576w_19.536n','64.053w_64.774s','170.564w_14.247s','24.800w_89.980s'\n",
      "  nhtfrq = -6,-6\n",
      "  mfilt  = 4,4\n",
      "/\n"
     ]
    }
   ],
   "source": [
    "user_nl = dict()\n",
    "\n",
    "if sathist_track_infile != 'none':\n",
    "    sathist_fincl_str = ','.join([f\"'{v}'\" for v in sathist_fincl])\n",
    "else:\n",
    "    sathist_fincl_str = \"'none'\"\n",
    "    \n",
    "user_nl['cam'] = f\"\"\"\n",
    "&camexp\n",
    "  ncdata = '{ncdata}'\n",
    "  bnd_topo = '/glade/work/tilmes/inputdata/topo/fv_0.9x1.25_nc3000_Nsw042_Nrs008_Co060_Fi001_ZR_merra2.nc'\n",
    "  dust_emis_fact = 0.7D0\n",
    "  soil_erod_file = '/glade/u/home/mahowald/dst_source2x2tunedcam6-2x2-04062017.nc'\n",
    "  ext_frc_type = 'SERIAL'\n",
    "  ext_frc_specifier = {', '.join(ext_frc_specifier)}\n",
    "  srf_emis_type = 'INTERP_MISSING_MONTHS'\n",
    "  srf_emis_specifier = {', '.join(srf_emis_specifier)}\n",
    "  flbc_file = '{flbc_file}'\n",
    "  flbc_list = {', '.join([f\"'{v}'\" for v in flbc_list])}\n",
    "  flbc_type = 'SERIAL'\n",
    "  scenario_ghg = 'CHEM_LBC_FILE'\n",
    "/\n",
    "&metdata_nl\n",
    "  met_nudge_temp = .false.\n",
    "  met_data_file = '{run_startdate[:4]}/MERRA2_0.9x1.25_{run_startdate[:4]}0101.nc'\n",
    "  met_data_path = '{inputdata}/atm/cam/met/MERRA2/0.9x1.25/'\n",
    "  met_filenames_list = '{inputdata}/atm/cam/met/MERRA2/0.9x1.25/filenames_1975-2021_c220109.txt'\n",
    "  met_fix_mass = .true.\n",
    "  met_qflx_factor = 1.0\n",
    "  met_rlx_time = 24.\n",
    "  met_srf_land = .false.\n",
    "  met_srf_land_scale = .false.\n",
    "  met_srf_nudge_flux = .false.\n",
    "  met_srf_rad = .false.\n",
    "  met_srf_refs = .false.\n",
    "  met_srf_sst = .false.\n",
    "  met_srf_tau = .false.\n",
    "/\n",
    "&rad_cnst_nl\n",
    " rad_diag_1 = 'A:Q:H2O', 'N:O2:O2', 'N:CO2:CO2', 'N:ozone:O3', 'N:N2O:N2O', 'N:CH4:CH4', \n",
    "              'N:CFC11:CFC11', 'N:CFC12:CFC12'\n",
    "/ \n",
    "&satellite_options_nl\n",
    "  sathist_mfilt = 10000\n",
    "  sathist_track_infile = '{sathist_track_infile}'\n",
    "  sathist_fincl = {sathist_fincl_str}\n",
    "/\n",
    "&cam_history_nl\n",
    "  fincl1 = {','.join([f\"'{v}'\" for v in fincl1])}\n",
    "  fincl2 = {','.join([f\"'{v}'\" for v in fincl2])}\n",
    "  fincl2lonlat = {fincl2lonlat}\n",
    "  nhtfrq = -6,-1\n",
    "  mfilt  = 4,4\n",
    "/\n",
    "\"\"\"\n",
    "\n",
    "user_nl['clm'] = f\"\"\"\n",
    "&clm_inparm\n",
    "  use_init_interp = .true.\n",
    "/\n",
    "\"\"\"\n",
    "\n",
    "if create_build_case:\n",
    "    for key, nl in user_nl.items():\n",
    "        with open(f\"{caseroot}/user_nl_{key}\", 'w') as fid:\n",
    "            fid.write(user_nl[key])\n",
    "            \n",
    "os.environ['CAT_FILE'] = f\"{caseroot}/user_nl_cam\"\n",
    "!cat ${CAT_FILE}"
   ]
  },
  {
   "cell_type": "markdown",
   "id": "7f8055d8-b562-4501-9b42-87de3a9dd013",
   "metadata": {},
   "source": [
    "## Build the model"
   ]
  },
  {
   "cell_type": "code",
   "execution_count": 34,
   "id": "95b5b0ed-e286-4d47-aa17-d2b052ee3814",
   "metadata": {
    "tags": []
   },
   "outputs": [
    {
     "name": "stdout",
     "output_type": "stream",
     "text": [
      "Submitting command to PBS using account NEOL0001:\n",
      "    ./case.build\n",
      "\n",
      "Waiting for job 3142191.chadmin1.ib0.cheyenne.ucar.edu to start ... \n",
      "\n",
      "\n",
      "Building case in directory /glade/work/mclong/cam-sd-cases/cam-sd-cases/cam6327_sd.apo_test_srf_emis.003\n",
      "sharedlib_only is False\n",
      "model_only is False\n",
      "Setting Environment OMP_STACKSIZE=1024M\n",
      "Setting Environment TMPDIR=/glade/scratch/mclong\n",
      "Setting Environment MPI_TYPE_DEPTH=16\n",
      "Setting Environment MPI_IB_CONGESTED=1\n",
      "Setting resource.RLIMIT_STACK to -1 from (-1, -1)\n",
      "Generating component namelists as part of build\n",
      "  2022-03-04 15:02:42 atm \n",
      "Create namelist for component cam\n",
      "   Calling /glade/p/cgd/oce/people/mclong/cesm/cam6_3_027/cime_config/buildnml\n",
      "     ...calling cam buildcpp to set build time options\n",
      "CAM namelist copy: file1 /glade/work/mclong/cam-sd-cases/cam-sd-cases/cam6327_sd.apo_test_srf_emis.003/Buildconf/camconf/atm_in file2 /glade/scratch/mclong/cam6327_sd.apo_test_srf_emis.003/run/atm_in \n",
      "  2022-03-04 15:02:47 lnd \n",
      "Create namelist for component clm\n",
      "   Calling /glade/p/cgd/oce/people/mclong/cesm/cam6_3_027/components/clm//cime_config/buildnml\n",
      "  2022-03-04 15:02:47 ice \n",
      "Create namelist for component cice\n",
      "   Calling /glade/p/cgd/oce/people/mclong/cesm/cam6_3_027/components/cice//cime_config/buildnml\n",
      "     ...buildnml calling cice buildcpp to set build time options\n",
      "  2022-03-04 15:02:48 ocn \n",
      "Create namelist for component docn\n",
      "   Calling /glade/p/cgd/oce/people/mclong/cesm/cam6_3_027/cime/src/components/data_comps_mct/docn/cime_config/buildnml\n",
      "  2022-03-04 15:02:48 rof \n",
      "Create namelist for component mosart\n",
      "   Calling /glade/p/cgd/oce/people/mclong/cesm/cam6_3_027/components/mosart//cime_config/buildnml\n",
      "  2022-03-04 15:02:48 glc \n",
      "Create namelist for component sglc\n",
      "   Calling /glade/p/cgd/oce/people/mclong/cesm/cam6_3_027/cime/src/components/stub_comps_mct/sglc/cime_config/buildnml\n",
      "  2022-03-04 15:02:48 wav \n",
      "Create namelist for component swav\n",
      "   Calling /glade/p/cgd/oce/people/mclong/cesm/cam6_3_027/cime/src/components/stub_comps_mct/swav/cime_config/buildnml\n",
      "  2022-03-04 15:02:48 iac \n",
      "Create namelist for component siac\n",
      "   Running /glade/p/cgd/oce/people/mclong/cesm/cam6_3_027/cime/src/components/stub_comps_mct/siac/cime_config/buildnml \n",
      "  2022-03-04 15:02:48 esp \n",
      "Create namelist for component sesp\n",
      "   Calling /glade/p/cgd/oce/people/mclong/cesm/cam6_3_027/cime/src/components/stub_comps_mct/sesp/cime_config/buildnml\n",
      "  2022-03-04 15:02:48 cpl \n",
      "Create namelist for component drv\n",
      "   Calling /glade/p/cgd/oce/people/mclong/cesm/cam6_3_027/cime/src/drivers/mct/cime_config/buildnml\n",
      "   NOTE: ignoring setting of rof2ocn_fmapname=idmap in seq_maps.rc\n",
      "   NOTE: ignoring setting of rof2ocn_ice_rmapname=idmap in seq_maps.rc\n",
      "   NOTE: ignoring setting of rof2ocn_liq_rmapname=idmap in seq_maps.rc\n",
      "Building gptl with output to file /glade/scratch/mclong/cam6327_sd.apo_test_srf_emis.003/bld/gptl.bldlog.220304-150241\n",
      "   Calling /glade/p/cgd/oce/people/mclong/cesm/cam6_3_027/cime/src/build_scripts/buildlib.gptl\n",
      "Component gptl build complete with 5 warnings\n",
      "Building mct with output to file /glade/scratch/mclong/cam6327_sd.apo_test_srf_emis.003/bld/mct.bldlog.220304-150241\n",
      "   Calling /glade/p/cgd/oce/people/mclong/cesm/cam6_3_027/cime/src/build_scripts/buildlib.mct\n",
      "Building pio with output to file /glade/scratch/mclong/cam6327_sd.apo_test_srf_emis.003/bld/pio.bldlog.220304-150241\n",
      "   Calling /glade/p/cgd/oce/people/mclong/cesm/cam6_3_027/cime/src/build_scripts/buildlib.pio\n",
      "Component pio build complete with 18 warnings\n",
      "Building csm_share with output to file /glade/scratch/mclong/cam6327_sd.apo_test_srf_emis.003/bld/csm_share.bldlog.220304-150241\n",
      "   Calling /glade/p/cgd/oce/people/mclong/cesm/cam6_3_027/cime/src/build_scripts/buildlib.csm_share\n",
      "Component csm_share build complete with 20 warnings\n",
      "         - Building clm library \n",
      "Building lnd with output to /glade/scratch/mclong/cam6327_sd.apo_test_srf_emis.003/bld/lnd.bldlog.220304-150241\n",
      "Component lnd build complete with 6 warnings\n",
      "clm built in 171.244329 seconds\n",
      "         - Building atm Library \n",
      "Building atm with output to /glade/scratch/mclong/cam6327_sd.apo_test_srf_emis.003/bld/atm.bldlog.220304-150241\n",
      "         - Building ice Library \n",
      "Building ice with output to /glade/scratch/mclong/cam6327_sd.apo_test_srf_emis.003/bld/ice.bldlog.220304-150241\n",
      "         - Building ocn Library \n",
      "Building ocn with output to /glade/scratch/mclong/cam6327_sd.apo_test_srf_emis.003/bld/ocn.bldlog.220304-150241\n",
      "         - Building rof Library \n",
      "Building rof with output to /glade/scratch/mclong/cam6327_sd.apo_test_srf_emis.003/bld/rof.bldlog.220304-150241\n",
      "         - Building glc Library \n",
      "Building glc with output to /glade/scratch/mclong/cam6327_sd.apo_test_srf_emis.003/bld/glc.bldlog.220304-150241\n",
      "         - Building wav Library \n",
      "Building wav with output to /glade/scratch/mclong/cam6327_sd.apo_test_srf_emis.003/bld/wav.bldlog.220304-150241\n",
      "         - Building iac Library \n",
      "Building iac with output to /glade/scratch/mclong/cam6327_sd.apo_test_srf_emis.003/bld/iac.bldlog.220304-150241\n",
      "         - Building esp Library \n",
      "Building esp with output to /glade/scratch/mclong/cam6327_sd.apo_test_srf_emis.003/bld/esp.bldlog.220304-150241\n",
      "sglc built in 2.890941 seconds\n",
      "sesp built in 3.455268 seconds\n",
      "swav built in 3.605653 seconds\n",
      "siac built in 3.793671 seconds\n",
      "docn built in 6.017872 seconds\n",
      "mosart built in 31.347946 seconds\n",
      "Component ice build complete with 1 warnings\n",
      "cice built in 199.732806 seconds\n",
      "Component atm build complete with 17 warnings\n",
      "cam built in 216.475093 seconds\n",
      "Building cesm from /glade/p/cgd/oce/people/mclong/cesm/cam6_3_027/cime/src/drivers/mct/cime_config/buildexe with output to /glade/scratch/mclong/cam6327_sd.apo_test_srf_emis.003/bld/cesm.bldlog.220304-150241 \n",
      "Total build time: 623.640171 seconds\n",
      "MODEL BUILD HAS FINISHED SUCCESSFULLY\n"
     ]
    }
   ],
   "source": [
    "if create_build_case:\n",
    "    with open(f\"{caseroot}/Macros.make\", 'a') as fid:\n",
    "        fid.write(\"HAS_F2008_CONTIGUOUS := FALSE\\n\")\n",
    "    check_call(['qcmd', '--', './case.build'], cwd=caseroot)\n",
    "    Path(f\"{lockroot}/{case}.locked\").touch()"
   ]
  },
  {
   "cell_type": "markdown",
   "id": "5f4a85ff-d6c2-407d-a790-b35440de06f3",
   "metadata": {},
   "source": [
    "## Preview namelists"
   ]
  },
  {
   "cell_type": "code",
   "execution_count": 35,
   "id": "d39d7b8c-0ac4-405f-b600-256a45c44d6b",
   "metadata": {},
   "outputs": [
    {
     "name": "stdout",
     "output_type": "stream",
     "text": [
      "Setting Environment OMP_STACKSIZE=1024M\n",
      "Setting Environment TMPDIR=/glade/scratch/mclong\n",
      "Setting Environment MPI_TYPE_DEPTH=16\n",
      "Setting Environment MPI_IB_CONGESTED=1\n",
      "Setting resource.RLIMIT_STACK to -1 from (307200000, -1)\n",
      "  2022-03-04 15:13:25 atm \n",
      "Create namelist for component cam\n",
      "   Calling /glade/p/cgd/oce/people/mclong/cesm/cam6_3_027/cime_config/buildnml\n",
      "CAM namelist copy: file1 /glade/work/mclong/cam-sd-cases/cam-sd-cases/cam6327_sd.apo_test_srf_emis.003/Buildconf/camconf/atm_in file2 /glade/scratch/mclong/cam6327_sd.apo_test_srf_emis.003/run/atm_in \n",
      "  2022-03-04 15:13:26 lnd \n",
      "Create namelist for component clm\n",
      "   Calling /glade/p/cgd/oce/people/mclong/cesm/cam6_3_027/components/clm//cime_config/buildnml\n",
      "  2022-03-04 15:13:26 ice \n",
      "Create namelist for component cice\n",
      "   Calling /glade/p/cgd/oce/people/mclong/cesm/cam6_3_027/components/cice//cime_config/buildnml\n",
      "  2022-03-04 15:13:27 ocn \n",
      "Create namelist for component docn\n",
      "   Calling /glade/p/cgd/oce/people/mclong/cesm/cam6_3_027/cime/src/components/data_comps_mct/docn/cime_config/buildnml\n",
      "  2022-03-04 15:13:27 rof \n",
      "Create namelist for component mosart\n",
      "   Calling /glade/p/cgd/oce/people/mclong/cesm/cam6_3_027/components/mosart//cime_config/buildnml\n",
      "  2022-03-04 15:13:27 glc \n",
      "Create namelist for component sglc\n",
      "   Calling /glade/p/cgd/oce/people/mclong/cesm/cam6_3_027/cime/src/components/stub_comps_mct/sglc/cime_config/buildnml\n",
      "  2022-03-04 15:13:27 wav \n",
      "Create namelist for component swav\n",
      "   Calling /glade/p/cgd/oce/people/mclong/cesm/cam6_3_027/cime/src/components/stub_comps_mct/swav/cime_config/buildnml\n",
      "  2022-03-04 15:13:27 iac \n",
      "Create namelist for component siac\n",
      "   Running /glade/p/cgd/oce/people/mclong/cesm/cam6_3_027/cime/src/components/stub_comps_mct/siac/cime_config/buildnml \n",
      "  2022-03-04 15:13:27 esp \n",
      "Create namelist for component sesp\n",
      "   Calling /glade/p/cgd/oce/people/mclong/cesm/cam6_3_027/cime/src/components/stub_comps_mct/sesp/cime_config/buildnml\n",
      "  2022-03-04 15:13:27 cpl \n",
      "Create namelist for component drv\n",
      "   Calling /glade/p/cgd/oce/people/mclong/cesm/cam6_3_027/cime/src/drivers/mct/cime_config/buildnml\n"
     ]
    },
    {
     "name": "stderr",
     "output_type": "stream",
     "text": [
      "   NOTE: ignoring setting of rof2ocn_fmapname=idmap in seq_maps.rc\n",
      "   NOTE: ignoring setting of rof2ocn_ice_rmapname=idmap in seq_maps.rc\n",
      "   NOTE: ignoring setting of rof2ocn_liq_rmapname=idmap in seq_maps.rc\n"
     ]
    },
    {
     "data": {
      "text/plain": [
       "0"
      ]
     },
     "execution_count": 35,
     "metadata": {},
     "output_type": "execute_result"
    }
   ],
   "source": [
    "check_call(['./preview_namelists'], cwd=caseroot)"
   ]
  },
  {
   "cell_type": "markdown",
   "id": "f51e148a-7902-41cb-a0ea-888027e0ecf2",
   "metadata": {},
   "source": [
    "## Submit the job"
   ]
  },
  {
   "cell_type": "code",
   "execution_count": 36,
   "id": "87e9a60a-65a6-43c5-9ae6-9ace2b97a206",
   "metadata": {},
   "outputs": [
    {
     "name": "stderr",
     "output_type": "stream",
     "text": [
      "\n",
      "env_batch.xml appears to have changed, regenerating batch scripts\n",
      "manual edits to these file will be lost!\n",
      "\n"
     ]
    },
    {
     "name": "stdout",
     "output_type": "stream",
     "text": [
      "Creating batch scripts\n",
      "Writing case.run script from input template /glade/p/cgd/oce/people/mclong/cesm/cam6_3_027/cime/config/cesm/machines/template.case.run\n",
      "Creating file .case.run\n",
      "Writing case.st_archive script from input template /glade/p/cgd/oce/people/mclong/cesm/cam6_3_027/cime/config/cesm/machines/template.st_archive\n",
      "Creating file case.st_archive\n",
      "Setting Environment OMP_STACKSIZE=1024M\n",
      "Setting Environment TMPDIR=/glade/scratch/mclong\n",
      "Setting Environment MPI_TYPE_DEPTH=16\n",
      "Setting Environment MPI_IB_CONGESTED=1\n",
      "Setting resource.RLIMIT_STACK to -1 from (307200000, -1)\n",
      "  2022-03-04 15:13:29 atm \n",
      "Create namelist for component cam\n",
      "   Calling /glade/p/cgd/oce/people/mclong/cesm/cam6_3_027/cime_config/buildnml\n",
      "CAM namelist copy: file1 /glade/work/mclong/cam-sd-cases/cam-sd-cases/cam6327_sd.apo_test_srf_emis.003/Buildconf/camconf/atm_in file2 /glade/scratch/mclong/cam6327_sd.apo_test_srf_emis.003/run/atm_in \n",
      "  2022-03-04 15:13:29 lnd \n",
      "Create namelist for component clm\n",
      "   Calling /glade/p/cgd/oce/people/mclong/cesm/cam6_3_027/components/clm//cime_config/buildnml\n",
      "  2022-03-04 15:13:30 ice \n",
      "Create namelist for component cice\n",
      "   Calling /glade/p/cgd/oce/people/mclong/cesm/cam6_3_027/components/cice//cime_config/buildnml\n",
      "  2022-03-04 15:13:30 ocn \n",
      "Create namelist for component docn\n",
      "   Calling /glade/p/cgd/oce/people/mclong/cesm/cam6_3_027/cime/src/components/data_comps_mct/docn/cime_config/buildnml\n",
      "  2022-03-04 15:13:30 rof \n",
      "Create namelist for component mosart\n",
      "   Calling /glade/p/cgd/oce/people/mclong/cesm/cam6_3_027/components/mosart//cime_config/buildnml\n",
      "  2022-03-04 15:13:30 glc \n",
      "Create namelist for component sglc\n",
      "   Calling /glade/p/cgd/oce/people/mclong/cesm/cam6_3_027/cime/src/components/stub_comps_mct/sglc/cime_config/buildnml\n",
      "  2022-03-04 15:13:30 wav \n",
      "Create namelist for component swav\n",
      "   Calling /glade/p/cgd/oce/people/mclong/cesm/cam6_3_027/cime/src/components/stub_comps_mct/swav/cime_config/buildnml\n",
      "  2022-03-04 15:13:30 iac \n",
      "Create namelist for component siac\n",
      "   Running /glade/p/cgd/oce/people/mclong/cesm/cam6_3_027/cime/src/components/stub_comps_mct/siac/cime_config/buildnml \n",
      "  2022-03-04 15:13:30 esp \n",
      "Create namelist for component sesp\n",
      "   Calling /glade/p/cgd/oce/people/mclong/cesm/cam6_3_027/cime/src/components/stub_comps_mct/sesp/cime_config/buildnml\n",
      "  2022-03-04 15:13:30 cpl \n",
      "Create namelist for component drv\n",
      "   Calling /glade/p/cgd/oce/people/mclong/cesm/cam6_3_027/cime/src/drivers/mct/cime_config/buildnml\n"
     ]
    },
    {
     "name": "stderr",
     "output_type": "stream",
     "text": [
      "   NOTE: ignoring setting of rof2ocn_fmapname=idmap in seq_maps.rc\n",
      "   NOTE: ignoring setting of rof2ocn_ice_rmapname=idmap in seq_maps.rc\n",
      "   NOTE: ignoring setting of rof2ocn_liq_rmapname=idmap in seq_maps.rc\n"
     ]
    },
    {
     "name": "stdout",
     "output_type": "stream",
     "text": [
      "Checking that inputdata is available as part of case submission\n",
      "Setting Environment OMP_STACKSIZE=1024M\n",
      "Setting Environment TMPDIR=/glade/scratch/mclong\n",
      "Setting Environment MPI_TYPE_DEPTH=16\n",
      "Setting Environment MPI_IB_CONGESTED=1\n",
      "Setting resource.RLIMIT_STACK to -1 from (-1, -1)\n",
      "Loading input file list: 'Buildconf/ctsm.input_data_list'\n",
      "Loading input file list: 'Buildconf/cpl.input_data_list'\n",
      "Loading input file list: 'Buildconf/cice.input_data_list'\n",
      "Loading input file list: 'Buildconf/docn.input_data_list'\n",
      "Loading input file list: 'Buildconf/mosart.input_data_list'\n",
      "Loading input file list: 'Buildconf/cam.input_data_list'\n",
      "Check case OK\n",
      "Submitting job script qsub -q premium -l walltime=04:00:00 -A NEOL0004 -m ea -v ARGS_FOR_SCRIPT='--resubmit' .case.run\n"
     ]
    },
    {
     "name": "stderr",
     "output_type": "stream",
     "text": [
      "submit_jobs case.run\n",
      "Submit job case.run\n",
      "Submit job case.st_archive\n"
     ]
    },
    {
     "name": "stdout",
     "output_type": "stream",
     "text": [
      "Submitted job id is 3142296.chadmin1.ib0.cheyenne.ucar.edu\n",
      "Submitting job script qsub -q premium -l walltime=04:00:00 -A NEOL0004  -W depend=afterok:3142296.chadmin1.ib0.cheyenne.ucar.edu -m ea -v ARGS_FOR_SCRIPT='--resubmit' case.st_archive\n",
      "Submitted job id is 3142297.chadmin1.ib0.cheyenne.ucar.edu\n",
      "Submitted job case.run with id 3142296.chadmin1.ib0.cheyenne.ucar.edu\n",
      "Submitted job case.st_archive with id 3142297.chadmin1.ib0.cheyenne.ucar.edu\n"
     ]
    },
    {
     "data": {
      "text/plain": [
       "0"
      ]
     },
     "execution_count": 36,
     "metadata": {},
     "output_type": "execute_result"
    }
   ],
   "source": [
    "check_call(['./case.submit'], cwd=caseroot)"
   ]
  },
  {
   "cell_type": "code",
   "execution_count": null,
   "id": "e82972aa-7be7-4d3e-94eb-6af710c8e0d9",
   "metadata": {},
   "outputs": [],
   "source": []
  }
 ],
 "metadata": {
  "kernelspec": {
   "display_name": "Python [conda env:miniconda3-sno]",
   "language": "python",
   "name": "conda-env-miniconda3-sno-py"
  },
  "language_info": {
   "codemirror_mode": {
    "name": "ipython",
    "version": 3
   },
   "file_extension": ".py",
   "mimetype": "text/x-python",
   "name": "python",
   "nbconvert_exporter": "python",
   "pygments_lexer": "ipython3",
   "version": "3.7.11"
  }
 },
 "nbformat": 4,
 "nbformat_minor": 5
}
